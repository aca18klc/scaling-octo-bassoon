{
 "cells": [
  {
   "cell_type": "markdown",
   "metadata": {},
   "source": [
    "### Project Dissertation "
   ]
  },
  {
   "cell_type": "code",
   "execution_count": 1,
   "metadata": {},
   "outputs": [],
   "source": [
    "import numpy as np\n",
    "import matplotlib.pyplot as plt\n",
    "import pandas as pd\n",
    "import seaborn as sns\n",
    "import nltk\n",
    "import inflect\n",
    "from nltk import word_tokenize, sent_tokenize\n",
    "from nltk.corpus import stopwords\n",
    "from nltk.stem import LancasterStemmer, WordNetLemmatizer\n",
    "import sklearn\n",
    "from sklearn.feature_extraction.text import CountVectorizer\n",
    "import spacy\n",
    "from nltk.tokenize.treebank import TreebankWordDetokenizer\n",
    "\n",
    "from tqdm import tqdm, tqdm_notebook, tnrange\n",
    "tqdm.pandas(desc='Progress')\n",
    "\n",
    "from sklearn.model_selection import train_test_split\n",
    "from sklearn.metrics import accuracy_score\n",
    "import sys\n",
    "import os\n",
    "import re\n",
    "import string\n",
    "import unicodedata\n",
    "import itertools"
   ]
  },
  {
   "cell_type": "code",
   "execution_count": 2,
   "metadata": {},
   "outputs": [],
   "source": [
    "import torchtext\n",
    "from torchtext.legacy import data\n",
    "## from torchtext.data import Field, BucketIterator, TabularDataset"
   ]
  },
  {
   "cell_type": "code",
   "execution_count": 3,
   "metadata": {},
   "outputs": [],
   "source": [
    "from bs4 import BeautifulSoup\n",
    "import unidecode\n",
    "from word2number import w2n"
   ]
  },
  {
   "cell_type": "code",
   "execution_count": 4,
   "metadata": {},
   "outputs": [
    {
     "name": "stdout",
     "output_type": "stream",
     "text": [
      "Python version: 3.7.4 (tags/v3.7.4:e09359112e, Jul  8 2019, 20:34:20) [MSC v.1916 64 bit (AMD64)]\n",
      "Pandas version: 1.2.4\n"
     ]
    }
   ],
   "source": [
    "print('Python version:',sys.version)\n",
    "print('Pandas version:',pd.__version__)\n"
   ]
  },
  {
   "cell_type": "code",
   "execution_count": 5,
   "metadata": {},
   "outputs": [],
   "source": [
    "df = pd.read_csv(\"C:/Users/Chan Ken Lok/Documents/Dissertations/depression-detection/data/tweets_combined.csv\")"
   ]
  },
  {
   "cell_type": "code",
   "execution_count": 6,
   "metadata": {},
   "outputs": [],
   "source": [
    "pd.set_option('display.max_colwidth', 1)"
   ]
  },
  {
   "cell_type": "code",
   "execution_count": 7,
   "metadata": {},
   "outputs": [
    {
     "data": {
      "text/html": [
       "<div>\n",
       "<style scoped>\n",
       "    .dataframe tbody tr th:only-of-type {\n",
       "        vertical-align: middle;\n",
       "    }\n",
       "\n",
       "    .dataframe tbody tr th {\n",
       "        vertical-align: top;\n",
       "    }\n",
       "\n",
       "    .dataframe thead th {\n",
       "        text-align: right;\n",
       "    }\n",
       "</style>\n",
       "<table border=\"1\" class=\"dataframe\">\n",
       "  <thead>\n",
       "    <tr style=\"text-align: right;\">\n",
       "      <th></th>\n",
       "      <th>Unnamed: 0</th>\n",
       "      <th>tweet</th>\n",
       "      <th>target</th>\n",
       "    </tr>\n",
       "  </thead>\n",
       "  <tbody>\n",
       "    <tr>\n",
       "      <th>0</th>\n",
       "      <td>0</td>\n",
       "      <td>Today in Selfcare: beauty &amp;amp; laughs Kung Fu Panda 3 #Wellness #joy #laughter #selfcare #therapist #philadelphia</td>\n",
       "      <td>0</td>\n",
       "    </tr>\n",
       "    <tr>\n",
       "      <th>1</th>\n",
       "      <td>1</td>\n",
       "      <td>I get to spend New Year's home again alone and lonely. ???•</td>\n",
       "      <td>1</td>\n",
       "    </tr>\n",
       "    <tr>\n",
       "      <th>2</th>\n",
       "      <td>2</td>\n",
       "      <td>Depressed and lonely /: Stuck in a deep, never ending hole :(</td>\n",
       "      <td>1</td>\n",
       "    </tr>\n",
       "    <tr>\n",
       "      <th>3</th>\n",
       "      <td>3</td>\n",
       "      <td>If this is your response to someone saying they're dealing with , you're a terrible person.</td>\n",
       "      <td>0</td>\n",
       "    </tr>\n",
       "    <tr>\n",
       "      <th>4</th>\n",
       "      <td>4</td>\n",
       "      <td>Apparently you get a free pass just by mentioning    Where was I on the free badge day??!!</td>\n",
       "      <td>0</td>\n",
       "    </tr>\n",
       "  </tbody>\n",
       "</table>\n",
       "</div>"
      ],
      "text/plain": [
       "   Unnamed: 0  \\\n",
       "0  0            \n",
       "1  1            \n",
       "2  2            \n",
       "3  3            \n",
       "4  4            \n",
       "\n",
       "                                                                                                                tweet  \\\n",
       "0  Today in Selfcare: beauty &amp; laughs Kung Fu Panda 3 #Wellness #joy #laughter #selfcare #therapist #philadelphia   \n",
       "1  I get to spend New Year's home again alone and lonely. ???•                                                          \n",
       "2  Depressed and lonely /: Stuck in a deep, never ending hole :(                                                        \n",
       "3  If this is your response to someone saying they're dealing with , you're a terrible person.                          \n",
       "4  Apparently you get a free pass just by mentioning    Where was I on the free badge day??!!                           \n",
       "\n",
       "   target  \n",
       "0  0       \n",
       "1  1       \n",
       "2  1       \n",
       "3  0       \n",
       "4  0       "
      ]
     },
     "execution_count": 7,
     "metadata": {},
     "output_type": "execute_result"
    }
   ],
   "source": [
    "df.head()"
   ]
  },
  {
   "cell_type": "code",
   "execution_count": 8,
   "metadata": {},
   "outputs": [
    {
     "data": {
      "text/plain": [
       "0    2357\n",
       "1    843 \n",
       "Name: target, dtype: int64"
      ]
     },
     "execution_count": 8,
     "metadata": {},
     "output_type": "execute_result"
    }
   ],
   "source": [
    "df.target.value_counts()"
   ]
  },
  {
   "cell_type": "code",
   "execution_count": 9,
   "metadata": {},
   "outputs": [
    {
     "data": {
      "image/png": "[encoded data removed]",
      "text/plain": [
       "<Figure size 360x216 with 1 Axes>"
      ]
     },
     "metadata": {
      "needs_background": "light"
     },
     "output_type": "display_data"
    }
   ],
   "source": [
    "fig = plt.figure(figsize=(5,3))\n",
    "ax = sns.barplot(x=df.target.unique(),y=df.target.value_counts());\n",
    "ax.set(xlabel='Labels');"
   ]
  },
  {
   "cell_type": "code",
   "execution_count": 10,
   "metadata": {},
   "outputs": [
    {
     "data": {
      "text/plain": [
       "(0    Today in Selfcare: beauty &amp; laughs Kung Fu Panda 3 #Wellness #joy #laughter #selfcare #therapist #philadelphia                              \n",
       " 1    I get to spend New Year's home again alone and lonely. ???•                                                                                     \n",
       " 2    Depressed and lonely /: Stuck in a deep, never ending hole :(                                                                                   \n",
       " 3    If this is your response to someone saying they're dealing with , you're a terrible person.                                                     \n",
       " 4    Apparently you get a free pass just by mentioning    Where was I on the free badge day??!!                                                      \n",
       " 5    When you will never again give birth to violent men..   pic.twitter.com/pkdPhhlUuZ                                                              \n",
       " 6    Learning to pretend to have a good time had become a natural skill. I hope one day it is genuine                                                \n",
       " 7    Aw man im outta pizza rolls                                                                                                                     \n",
       " 8    When you go out and try to be a part of life & end up feeling like you are less a part of it then when you started.   pic.twitter.com/J625NXrWDb\n",
       " 9    So far he stop texting me…after I said something…so hopefully he doesn't show up at my house…                                                   \n",
       " Name: tweet, dtype: object,\n",
       " 3190     is more closely associated with  than                                                                                                                                            \n",
       " 3191    At least @LewisHamilton not turning up is not the most outrageous thing at #F1Live #Kaiserchiefs                                                                                  \n",
       " 3192    Christmas without you     pic.twitter.com/IKzGhX6ZI8                                                                                                                              \n",
       " 3193    honestly just wanna watch OTH & have no Netflix to do that, so                                                                                                                    \n",
       " 3194    Depression is like wearing a one of those weighted blankets- makes it feel real good to lay in bed for 16 hours but also makes it pretty exhausting to do anything outside of that\n",
       " 3195    May the new year abound in H’s: Health, Hope, Healing, Happiness And H-coils!                                                                                                     \n",
       " 3196    It is not a beautiful day as usual.                                                                                                                                               \n",
       " 3197    Compact Metal Leaf Grinder with Four Layers  pic.twitter.com/VTan3PBT6H                                                                                                           \n",
       " 3198    First Christmas in YEARS that I have to work.  it just doesn't feel the same.                                                                                                     \n",
       " 3199    It's okay sus. Let that hurt go 🤗 * that's me hugging ya bitter ass * 😂😂😂                                                                                                         \n",
       " Name: tweet, dtype: object)"
      ]
     },
     "execution_count": 10,
     "metadata": {},
     "output_type": "execute_result"
    }
   ],
   "source": [
    "df.tweet.head(10), df.tweet.tail(10)"
   ]
  },
  {
   "cell_type": "code",
   "execution_count": 11,
   "metadata": {},
   "outputs": [
    {
     "data": {
      "text/plain": [
       "0    Today in Selfcare: beauty &amp; laughs Kung Fu Panda 3 #Wellness #joy #laughter #selfcare #therapist #philadelphia\n",
       "3    If this is your response to someone saying they're dealing with , you're a terrible person.                       \n",
       "4    Apparently you get a free pass just by mentioning    Where was I on the free badge day??!!                        \n",
       "5    When you will never again give birth to violent men..   pic.twitter.com/pkdPhhlUuZ                                \n",
       "7    Aw man im outta pizza rolls                                                                                       \n",
       "Name: tweet, dtype: object"
      ]
     },
     "execution_count": 11,
     "metadata": {},
     "output_type": "execute_result"
    }
   ],
   "source": [
    "# check non-depressive tweets\n",
    "df[df[\"target\"]==0].tweet.head()"
   ]
  },
  {
   "cell_type": "code",
   "execution_count": 12,
   "metadata": {},
   "outputs": [
    {
     "data": {
      "text/plain": [
       "1     I get to spend New Year's home again alone and lonely. ???•                                     \n",
       "2     Depressed and lonely /: Stuck in a deep, never ending hole :(                                   \n",
       "6     Learning to pretend to have a good time had become a natural skill. I hope one day it is genuine\n",
       "9     So far he stop texting me…after I said something…so hopefully he doesn't show up at my house…   \n",
       "11    *sigh* ???? I haven't cried so much…I'm in so much pain…                                        \n",
       "Name: tweet, dtype: object"
      ]
     },
     "execution_count": 12,
     "metadata": {},
     "output_type": "execute_result"
    }
   ],
   "source": [
    "# check depressive tweets\n",
    "df[df[\"target\"]==1].tweet.head()"
   ]
  },
  {
   "cell_type": "markdown",
   "metadata": {},
   "source": [
    "### Pre process method "
   ]
  },
  {
   "cell_type": "code",
   "execution_count": 13,
   "metadata": {},
   "outputs": [
    {
     "name": "stderr",
     "output_type": "stream",
     "text": [
      "Progress: 100%|████████████████████████████████████████████████████████████████| 3200/3200 [00:00<00:00, 291144.75it/s]\n"
     ]
    }
   ],
   "source": [
    "df['tweet'] = df.tweet.progress_apply(lambda x: re.sub('\\n', ' ', x))"
   ]
  },
  {
   "cell_type": "code",
   "execution_count": 14,
   "metadata": {},
   "outputs": [
    {
     "data": {
      "text/plain": [
       "0    Today in Selfcare: beauty &amp; laughs Kung Fu Panda 3 #Wellness #joy #laughter #selfcare #therapist #philadelphia\n",
       "1    I get to spend New Year's home again alone and lonely. ???•                                                       \n",
       "2    Depressed and lonely /: Stuck in a deep, never ending hole :(                                                     \n",
       "3    If this is your response to someone saying they're dealing with , you're a terrible person.                       \n",
       "4    Apparently you get a free pass just by mentioning    Where was I on the free badge day??!!                        \n",
       "Name: tweet, dtype: object"
      ]
     },
     "execution_count": 14,
     "metadata": {},
     "output_type": "execute_result"
    }
   ],
   "source": [
    "df['tweet'].head(5)"
   ]
  },
  {
   "cell_type": "code",
   "execution_count": 15,
   "metadata": {},
   "outputs": [],
   "source": [
    "contraction_dict = {\"ain't\": \"is not\", \"aren't\": \"are not\",\"can't\": \"cannot\", \"'cause\": \"because\", \"could've\": \"could have\", \"couldn't\": \"could not\", \"didn't\": \"did not\",  \"doesn't\": \"does not\", \"don't\": \"do not\", \"hadn't\": \"had not\", \"hasn't\": \"has not\", \"haven't\": \"have not\", \"he'd\": \"he would\",\"he'll\": \"he will\", \"he's\": \"he is\", \"how'd\": \"how did\", \"how'd'y\": \"how do you\", \"how'll\": \"how will\", \"how's\": \"how is\",  \"I'd\": \"I would\", \"I'd've\": \"I would have\", \"I'll\": \"I will\", \"I'll've\": \"I will have\",\"I'm\": \"I am\", \"I've\": \"I have\", \"i'd\": \"i would\", \"i'd've\": \"i would have\", \"i'll\": \"i will\",  \"i'll've\": \"i will have\",\"i'm\": \"i am\", \"i've\": \"i have\", \"isn't\": \"is not\", \"it'd\": \"it would\", \"it'd've\": \"it would have\", \"it'll\": \"it will\", \"it'll've\": \"it will have\",\"it's\": \"it is\", \"let's\": \"let us\", \"ma'am\": \"madam\", \"mayn't\": \"may not\", \"might've\": \"might have\",\"mightn't\": \"might not\",\"mightn't've\": \"might not have\", \"must've\": \"must have\", \"mustn't\": \"must not\", \"mustn't've\": \"must not have\", \"needn't\": \"need not\", \"needn't've\": \"need not have\",\"o'clock\": \"of the clock\", \"oughtn't\": \"ought not\", \"oughtn't've\": \"ought not have\", \"shan't\": \"shall not\", \"sha'n't\": \"shall not\", \"shan't've\": \"shall not have\", \"she'd\": \"she would\", \"she'd've\": \"she would have\", \"she'll\": \"she will\", \"she'll've\": \"she will have\", \"she's\": \"she is\", \"should've\": \"should have\", \"shouldn't\": \"should not\", \"shouldn't've\": \"should not have\", \"so've\": \"so have\",\"so's\": \"so as\", \"this's\": \"this is\",\"that'd\": \"that would\", \"that'd've\": \"that would have\", \"that's\": \"that is\", \"there'd\": \"there would\", \"there'd've\": \"there would have\", \"there's\": \"there is\", \"here's\": \"here is\",\"they'd\": \"they would\", \"they'd've\": \"they would have\", \"they'll\": \"they will\", \"they'll've\": \"they will have\", \"they're\": \"they are\", \"they've\": \"they have\", \"to've\": \"to have\", \"wasn't\": \"was not\", \"we'd\": \"we would\", \"we'd've\": \"we would have\", \"we'll\": \"we will\", \"we'll've\": \"we will have\", \"we're\": \"we are\", \"we've\": \"we have\", \"weren't\": \"were not\", \"what'll\": \"what will\", \"what'll've\": \"what will have\", \"what're\": \"what are\",  \"what's\": \"what is\", \"what've\": \"what have\", \"when's\": \"when is\", \"when've\": \"when have\", \"where'd\": \"where did\", \"where's\": \"where is\", \"where've\": \"where have\", \"who'll\": \"who will\", \"who'll've\": \"who will have\", \"who's\": \"who is\", \"who've\": \"who have\", \"why's\": \"why is\", \"why've\": \"why have\", \"will've\": \"will have\", \"won't\": \"will not\", \"won't've\": \"will not have\", \"would've\": \"would have\", \"wouldn't\": \"would not\", \"wouldn't've\": \"would not have\", \"y'all\": \"you all\", \"y'all'd\": \"you all would\",\"y'all'd've\": \"you all would have\",\"y'all're\": \"you all are\",\"y'all've\": \"you all have\",\"you'd\": \"you would\", \"you'd've\": \"you would have\", \"you'll\": \"you will\", \"you'll've\": \"you will have\", \"you're\": \"you are\", \"you've\": \"you have\"} #can be added to dict"
   ]
  },
  {
   "cell_type": "code",
   "execution_count": 16,
   "metadata": {},
   "outputs": [],
   "source": [
    "def _get_contractions(contraction_dict):\n",
    "    contraction_re = re.compile('(%s)' % '|'.join(contraction_dict.keys()))\n",
    "    return contraction_dict, contraction_re\n",
    "\n",
    "contractions, contractions_re = _get_contractions(contraction_dict)\n",
    "\n",
    "def replace_contractions(text):\n",
    "    def replace(match):\n",
    "        return contractions[match.group(0)]\n",
    "    return contractions_re.sub(replace, text)"
   ]
  },
  {
   "cell_type": "code",
   "execution_count": 17,
   "metadata": {},
   "outputs": [],
   "source": [
    "def remove_non_ascii(words):\n",
    "    \"\"\"Remove non-ASCII characters from list of tokenized words\"\"\"\n",
    "    new_words = []\n",
    "    for word in words:\n",
    "        new_word = unicodedata.normalize('NFKD', word).encode('ascii', 'ignore').decode('utf-8', 'ignore')\n",
    "        new_words.append(new_word)\n",
    "    return new_words\n",
    "\n",
    "def to_lowercase(words):\n",
    "    \"\"\"Convert all characters to lowercase from list of tokenized words\"\"\"\n",
    "    new_words = []\n",
    "    for word in words:\n",
    "        new_word = word.lower()\n",
    "        new_words.append(new_word)\n",
    "    return new_words\n",
    "\n",
    "def remove_punctuation(words):\n",
    "    \"\"\"Remove punctuation from list of tokenized words\"\"\"\n",
    "    new_words = []\n",
    "    for word in words:\n",
    "        new_word = re.sub(r'[^\\w\\s]', '', word)\n",
    "        if new_word != '':\n",
    "            new_words.append(new_word)\n",
    "    return new_words\n",
    "\n",
    "def replace_numbers(words):\n",
    "    \"\"\"Replace all interger occurrences in list of tokenized words with textual representation\"\"\"\n",
    "    p = inflect.engine()\n",
    "    new_words = []\n",
    "    for word in words:\n",
    "        if word.isdigit():\n",
    "            new_word = p.number_to_words(word)\n",
    "            new_words.append(new_word)\n",
    "        else:\n",
    "            new_words.append(word)\n",
    "    return new_words\n",
    "\n",
    "def remove_stopwords(words):\n",
    "    \"\"\"Remove stop words from list of tokenized words\"\"\"\n",
    "    new_words = []\n",
    "    for word in words:\n",
    "        if word not in stopwords.words('english'):\n",
    "            new_words.append(word)\n",
    "    return new_words\n",
    "\n",
    "def stem_words(words):\n",
    "    \"\"\"Stem words in list of tokenized words\"\"\"\n",
    "    stemmer = LancasterStemmer()\n",
    "    stems = []\n",
    "    for word in words:\n",
    "        stem = stemmer.stem(word)\n",
    "        stems.append(stem)\n",
    "    return stems\n",
    "\n",
    "def lemmatize_verbs(words):\n",
    "    \"\"\"Lemmatize verbs in list of tokenized words\"\"\"\n",
    "    lemmatizer = WordNetLemmatizer()\n",
    "    lemmas = []\n",
    "    for word in words:\n",
    "        lemma = lemmatizer.lemmatize(word, pos='v')\n",
    "        lemmas.append(lemma)\n",
    "    return lemmas\n",
    "\n",
    "def normalize(words):\n",
    "    words = remove_non_ascii(words)\n",
    "    words = to_lowercase(words)\n",
    "    words = remove_punctuation(words)\n",
    "    words = replace_numbers(words)\n",
    "    words = remove_stopwords(words)\n",
    "    words = lemmatize_verbs(words)\n",
    "    return words"
   ]
  },
  {
   "cell_type": "code",
   "execution_count": 18,
   "metadata": {},
   "outputs": [],
   "source": [
    "def tweet_clean(text):\n",
    "    text = re.sub(r\"http\\S+\", \"\", text)# remove urls c\n",
    "    text = re.sub(r'<([^>]*)>', ' ', text) # remove emojis c\n",
    "    text = re.sub(r\"pic\\S+\", \"\", text)# maybe remove pictures\n",
    "    text = re.sub(r'@\\w+', ' ', text) # remove at mentions c\n",
    "    text = re.sub(r'#\\w+', ' ', text) # remove hashtag symbol c\n",
    "    text = replace_contractions(text) # no need change method c\n",
    "    pattern = re.compile(r\"[ \\n\\t]+\") \n",
    "    text = pattern.sub(\" \", text)      \n",
    "    text = \"\".join(\"\".join(s)[:2] for _, s in itertools.groupby(text))    # ???\n",
    "    text = re.sub(r'[^A-Za-z0-9,?.!]+', ' ', text) # remove all symbols and punctuation except for . , ! and ? might change the process\n",
    "    return text.strip()"
   ]
  },
  {
   "cell_type": "code",
   "execution_count": 19,
   "metadata": {},
   "outputs": [],
   "source": [
    "def preprocess(sample):\n",
    "    # Tokenize\n",
    "    words = word_tokenize(sample)\n",
    "\n",
    "    # Normalize\n",
    "    return normalize(words)"
   ]
  },
  {
   "cell_type": "code",
   "execution_count": 20,
   "metadata": {},
   "outputs": [],
   "source": [
    "def tokenizer(s): \n",
    "    word = tweet_clean(s)\n",
    "    return preprocess(word)"
   ]
  },
  {
   "cell_type": "code",
   "execution_count": 21,
   "metadata": {},
   "outputs": [
    {
     "name": "stdout",
     "output_type": "stream",
     "text": [
      "Wall time: 15.3 s\n"
     ]
    }
   ],
   "source": [
    "%%time\n",
    "df['tweet'] = df['tweet'].apply(lambda x : tokenizer(x))\n",
    "df['tweet'] = df['tweet'].apply(lambda x : TreebankWordDetokenizer().detokenize(x))"
   ]
  },
  {
   "cell_type": "code",
   "execution_count": 22,
   "metadata": {},
   "outputs": [
    {
     "data": {
      "text/plain": [
       "0    today selfcare beauty amp laugh kung fu panda three\n",
       "1    get spend new year home alone lonely               \n",
       "2    depress lonely stick deep never end hole           \n",
       "Name: tweet, dtype: object"
      ]
     },
     "execution_count": 22,
     "metadata": {},
     "output_type": "execute_result"
    }
   ],
   "source": [
    "df['tweet'].head(3)"
   ]
  },
  {
   "cell_type": "markdown",
   "metadata": {},
   "source": [
    "### seperating into seperate files"
   ]
  },
  {
   "cell_type": "code",
   "execution_count": 23,
   "metadata": {},
   "outputs": [],
   "source": [
    "def split_train_test(df, test_size=0.2):\n",
    "    train, val = train_test_split(df, test_size=test_size,random_state=42)\n",
    "    return train.reset_index(drop=True), val.reset_index(drop=True)"
   ]
  },
  {
   "cell_type": "code",
   "execution_count": 24,
   "metadata": {},
   "outputs": [],
   "source": [
    "# create train and validation set \n",
    "train_val, test = split_train_test(df, test_size=0.2)\n",
    "train, val = split_train_test(train_val, test_size=0.2)"
   ]
  },
  {
   "cell_type": "code",
   "execution_count": 25,
   "metadata": {},
   "outputs": [],
   "source": [
    "train.to_csv(\"train.csv\", index=False)\n",
    "val.to_csv(\"val.csv\", index=False)\n",
    "test.to_csv(\"test.csv\", index=False)"
   ]
  },
  {
   "cell_type": "code",
   "execution_count": 26,
   "metadata": {},
   "outputs": [
    {
     "data": {
      "text/plain": [
       "((2048, 3), (512, 3), (640, 3))"
      ]
     },
     "execution_count": 26,
     "metadata": {},
     "output_type": "execute_result"
    }
   ],
   "source": [
    "train.shape, val.shape, test.shape"
   ]
  },
  {
   "cell_type": "code",
   "execution_count": 27,
   "metadata": {},
   "outputs": [
    {
     "data": {
      "text/plain": [
       "[Text(0, 0.5, 'counts'), Text(0.5, 0, 'Labels'), Text(0.5, 1.0, 'test')]"
      ]
     },
     "execution_count": 27,
     "metadata": {},
     "output_type": "execute_result"
    },
    {
     "data": {
      "image/png": "[encoded data removed]",
      "text/plain": [
       "<Figure size 720x288 with 3 Axes>"
      ]
     },
     "metadata": {
      "needs_background": "light"
     },
     "output_type": "display_data"
    }
   ],
   "source": [
    "fig = plt.figure(figsize=(10,4))\n",
    "fig.subplots_adjust(hspace=0.4, wspace=0.4)\n",
    "\n",
    "ax = fig.add_subplot(1,3,1)\n",
    "ax = sns.barplot(x=train.target.unique(),y=train.target.value_counts())\n",
    "ax.set(xlabel='Labels', ylabel=\"counts\", title=\"train\")\n",
    "\n",
    "ax1 = fig.add_subplot(1,3,2)\n",
    "ax1 = sns.barplot(x=val.target.unique(),y=val.target.value_counts())\n",
    "ax1.set(xlabel='Labels', ylabel=\"counts\", title=\"validation\")\n",
    "\n",
    "ax2 = fig.add_subplot(1,3,3)\n",
    "ax2 = sns.barplot(x=test.target.unique(),y=test.target.value_counts())\n",
    "ax2.set(xlabel='Labels', ylabel=\"counts\", title=\"test\")"
   ]
  },
  {
   "cell_type": "code",
   "execution_count": 28,
   "metadata": {},
   "outputs": [
    {
     "data": {
      "text/html": [
       "<div>\n",
       "<style scoped>\n",
       "    .dataframe tbody tr th:only-of-type {\n",
       "        vertical-align: middle;\n",
       "    }\n",
       "\n",
       "    .dataframe tbody tr th {\n",
       "        vertical-align: top;\n",
       "    }\n",
       "\n",
       "    .dataframe thead th {\n",
       "        text-align: right;\n",
       "    }\n",
       "</style>\n",
       "<table border=\"1\" class=\"dataframe\">\n",
       "  <thead>\n",
       "    <tr style=\"text-align: right;\">\n",
       "      <th></th>\n",
       "      <th>Unnamed: 0</th>\n",
       "      <th>tweet</th>\n",
       "      <th>target</th>\n",
       "    </tr>\n",
       "  </thead>\n",
       "  <tbody>\n",
       "    <tr>\n",
       "      <th>0</th>\n",
       "      <td>1166</td>\n",
       "      <td>feel important</td>\n",
       "      <td>0</td>\n",
       "    </tr>\n",
       "    <tr>\n",
       "      <th>1</th>\n",
       "      <td>55</td>\n",
       "      <td>michael bed day barely functional car bad cold one katman</td>\n",
       "      <td>0</td>\n",
       "    </tr>\n",
       "    <tr>\n",
       "      <th>2</th>\n",
       "      <td>2321</td>\n",
       "      <td>ppl tweet lead cause depression reality pithy know show empathy stop</td>\n",
       "      <td>0</td>\n",
       "    </tr>\n",
       "  </tbody>\n",
       "</table>\n",
       "</div>"
      ],
      "text/plain": [
       "   Unnamed: 0  \\\n",
       "0  1166         \n",
       "1  55           \n",
       "2  2321         \n",
       "\n",
       "                                                                  tweet  \\\n",
       "0  feel important                                                         \n",
       "1  michael bed day barely functional car bad cold one katman              \n",
       "2  ppl tweet lead cause depression reality pithy know show empathy stop   \n",
       "\n",
       "   target  \n",
       "0  0       \n",
       "1  0       \n",
       "2  0       "
      ]
     },
     "execution_count": 28,
     "metadata": {},
     "output_type": "execute_result"
    }
   ],
   "source": [
    "val.head(3)"
   ]
  },
  {
   "cell_type": "code",
   "execution_count": 29,
   "metadata": {},
   "outputs": [
    {
     "data": {
      "text/html": [
       "<div>\n",
       "<style scoped>\n",
       "    .dataframe tbody tr th:only-of-type {\n",
       "        vertical-align: middle;\n",
       "    }\n",
       "\n",
       "    .dataframe tbody tr th {\n",
       "        vertical-align: top;\n",
       "    }\n",
       "\n",
       "    .dataframe thead th {\n",
       "        text-align: right;\n",
       "    }\n",
       "</style>\n",
       "<table border=\"1\" class=\"dataframe\">\n",
       "  <thead>\n",
       "    <tr style=\"text-align: right;\">\n",
       "      <th></th>\n",
       "      <th>Unnamed: 0</th>\n",
       "      <th>tweet</th>\n",
       "      <th>target</th>\n",
       "    </tr>\n",
       "  </thead>\n",
       "  <tbody>\n",
       "    <tr>\n",
       "      <th>0</th>\n",
       "      <td>3088</td>\n",
       "      <td>really wish would time draw blog sure would helpful many</td>\n",
       "      <td>0</td>\n",
       "    </tr>\n",
       "    <tr>\n",
       "      <th>1</th>\n",
       "      <td>948</td>\n",
       "      <td>cut ankle easier hide handle people find pretend care hurt</td>\n",
       "      <td>1</td>\n",
       "    </tr>\n",
       "    <tr>\n",
       "      <th>2</th>\n",
       "      <td>593</td>\n",
       "      <td>everything come back sudden good feel</td>\n",
       "      <td>1</td>\n",
       "    </tr>\n",
       "  </tbody>\n",
       "</table>\n",
       "</div>"
      ],
      "text/plain": [
       "   Unnamed: 0                                                       tweet  \\\n",
       "0  3088        really wish would time draw blog sure would helpful many     \n",
       "1  948         cut ankle easier hide handle people find pretend care hurt   \n",
       "2  593         everything come back sudden good feel                        \n",
       "\n",
       "   target  \n",
       "0  0       \n",
       "1  1       \n",
       "2  1       "
      ]
     },
     "execution_count": 29,
     "metadata": {},
     "output_type": "execute_result"
    }
   ],
   "source": [
    "train.head(3)"
   ]
  },
  {
   "cell_type": "markdown",
   "metadata": {},
   "source": [
    "For target that is 0"
   ]
  },
  {
   "cell_type": "code",
   "execution_count": 30,
   "metadata": {},
   "outputs": [],
   "source": [
    "nondepressed_docs = [row['tweet'] for index,row in train.iterrows() if row['target'] == 0 ]\n",
    "vec_0 = CountVectorizer()"
   ]
  },
  {
   "cell_type": "code",
   "execution_count": 31,
   "metadata": {},
   "outputs": [],
   "source": [
    "X_0 = vec_0.fit_transform(nondepressed_docs)\n",
    "tdm_0 = pd.DataFrame(X_0.toarray(), columns=vec_0.get_feature_names())"
   ]
  },
  {
   "cell_type": "code",
   "execution_count": 32,
   "metadata": {},
   "outputs": [],
   "source": [
    "word_list_0 = vec_0.get_feature_names();    \n",
    "count_list_0 = X_0.toarray().sum(axis=0) \n",
    "freq_0 = dict(zip(word_list_0,count_list_0))"
   ]
  },
  {
   "cell_type": "code",
   "execution_count": 33,
   "metadata": {},
   "outputs": [],
   "source": [
    "probs_0 = []\n",
    "for word,count in zip(word_list_0,count_list_0):\n",
    "    probs_0.append(count/len(word_list_0))\n",
    "res_0 = dict(zip(word_list_0,probs_0))"
   ]
  },
  {
   "cell_type": "code",
   "execution_count": 34,
   "metadata": {},
   "outputs": [],
   "source": [
    "docs = [row['tweet'] for index,row in train.iterrows()]\n",
    "\n",
    "vec = CountVectorizer()\n",
    "X = vec.fit_transform(docs)\n",
    "\n",
    "total_features = len(vec.get_feature_names())"
   ]
  },
  {
   "cell_type": "code",
   "execution_count": 35,
   "metadata": {},
   "outputs": [],
   "source": [
    "total_cnts_features_0 = count_list_0.sum(axis=0)"
   ]
  },
  {
   "cell_type": "markdown",
   "metadata": {},
   "source": [
    "Method for making dict new to compare"
   ]
  },
  {
   "cell_type": "code",
   "execution_count": 36,
   "metadata": {},
   "outputs": [],
   "source": [
    "def create_dict_test_0(word_list,freq,total_cnts_features):\n",
    "    prob_s_with_ls = []\n",
    "    for word in word_list:\n",
    "        if word in freq.keys():\n",
    "            count = freq[word]\n",
    "        else:\n",
    "            count = 0\n",
    "        prob_s_with_ls.append((count + 1)/(total_cnts_features + total_features))\n",
    "    return dict(zip(new_word_list,prob_s_with_ls))"
   ]
  },
  {
   "cell_type": "markdown",
   "metadata": {},
   "source": [
    "For target is 1 "
   ]
  },
  {
   "cell_type": "code",
   "execution_count": 37,
   "metadata": {},
   "outputs": [],
   "source": [
    "depressed_docs = [row['tweet'] for index,row in train.iterrows() if row['target'] == 1 ]\n",
    "vec_1 = CountVectorizer()\n",
    "X_1 = vec_1.fit_transform(depressed_docs)\n",
    "tdm_1 = pd.DataFrame(X_1.toarray(), columns=vec_1.get_feature_names())\n",
    "word_list_1 = vec_1.get_feature_names();    \n",
    "count_list_1 = X_1.toarray().sum(axis=0) \n",
    "freq_1 = dict(zip(word_list_1,count_list_1))"
   ]
  },
  {
   "cell_type": "code",
   "execution_count": 38,
   "metadata": {},
   "outputs": [],
   "source": [
    "probs_1 = []\n",
    "for word,count in zip(word_list_1,count_list_1):\n",
    "    probs_1.append(count/len(word_list_1))\n",
    "res_1 = dict(zip(word_list_1,probs_1))"
   ]
  },
  {
   "cell_type": "code",
   "execution_count": 39,
   "metadata": {},
   "outputs": [
    {
     "name": "stdout",
     "output_type": "stream",
     "text": [
      "4657\n"
     ]
    }
   ],
   "source": [
    "total_cnts_features_1 = count_list_1.sum(axis=0)\n",
    "print(total_cnts_features_1)"
   ]
  },
  {
   "cell_type": "markdown",
   "metadata": {},
   "source": [
    "Setting up result with training data "
   ]
  },
  {
   "cell_type": "code",
   "execution_count": 40,
   "metadata": {},
   "outputs": [],
   "source": [
    "new_sentence = 'cut depress sad'\n",
    "new_word_list = word_tokenize(new_sentence)"
   ]
  },
  {
   "cell_type": "code",
   "execution_count": 41,
   "metadata": {},
   "outputs": [],
   "source": [
    "def show_new_dict(wordList, freq, total_cnts_features):\n",
    "    prob_s_with_ls = []\n",
    "    for word in wordList:\n",
    "        if word in freq.keys():\n",
    "            count = freq[word]\n",
    "        else:\n",
    "            count = 0\n",
    "        prob_s_with_ls.append((count + 1)/(total_cnts_features + total_features))\n",
    "    return dict(zip(wordList,prob_s_with_ls))"
   ]
  },
  {
   "cell_type": "code",
   "execution_count": 42,
   "metadata": {},
   "outputs": [],
   "source": [
    "t = show_new_dict(new_word_list,freq_0,total_cnts_features_0)"
   ]
  },
  {
   "cell_type": "code",
   "execution_count": 43,
   "metadata": {},
   "outputs": [
    {
     "data": {
      "text/plain": [
       "dict_values([0.00032168821977739175, 0.0012224152351540886, 0.0007077140835102619])"
      ]
     },
     "execution_count": 43,
     "metadata": {},
     "output_type": "execute_result"
    }
   ],
   "source": [
    "t.values()"
   ]
  },
  {
   "cell_type": "code",
   "execution_count": 44,
   "metadata": {},
   "outputs": [
    {
     "data": {
      "text/plain": [
       "2.7829906640161395e-10"
      ]
     },
     "execution_count": 44,
     "metadata": {},
     "output_type": "execute_result"
    }
   ],
   "source": [
    "np.prod(list(t.values()))"
   ]
  },
  {
   "cell_type": "code",
   "execution_count": 45,
   "metadata": {},
   "outputs": [],
   "source": [
    "def compare_values(a,b):\n",
    "    if a > b :\n",
    "        return 0\n",
    "    elif b > a : \n",
    "        return 1"
   ]
  },
  {
   "cell_type": "code",
   "execution_count": 46,
   "metadata": {},
   "outputs": [
    {
     "data": {
      "text/plain": [
       "2048"
      ]
     },
     "execution_count": 46,
     "metadata": {},
     "output_type": "execute_result"
    }
   ],
   "source": [
    "t = train[train['target'] == 0]\n",
    "t.shape\n",
    "train.shape[0]"
   ]
  },
  {
   "cell_type": "code",
   "execution_count": 47,
   "metadata": {},
   "outputs": [],
   "source": [
    "def predict_class(wordlist):\n",
    "    t_0 = show_new_dict(wordlist,freq_0,total_cnts_features_0)\n",
    "    t_1 = show_new_dict(wordlist,freq_1,total_cnts_features_1)\n",
    "    \n",
    "    t_0_val = np.prod(list(t_0.values()))\n",
    "    t_1_val = np.prod(list(t_1.values()))\n",
    "    \n",
    "    t_0_shape = (train[train['target'] == 0]).shape[0]\n",
    "    t_1_shape = (train[train['target'] == 1]).shape[0]\n",
    "    t_all_shape = train.shape[0]\n",
    "    \n",
    "    prob_0 = t_0_val * (t_0_shape / t_all_shape)\n",
    "    prob_1 = t_1_val * (t_1_shape / t_all_shape)\n",
    "    \n",
    "    return compare_values(prob_0,prob_1)"
   ]
  },
  {
   "cell_type": "code",
   "execution_count": 48,
   "metadata": {},
   "outputs": [
    {
     "name": "stdout",
     "output_type": "stream",
     "text": [
      "0\n"
     ]
    }
   ],
   "source": [
    "sample = val['tweet'].iloc[0]\n",
    "print(predict_class(word_tokenize(sample)))"
   ]
  },
  {
   "cell_type": "markdown",
   "metadata": {},
   "source": [
    "To validate the system"
   ]
  },
  {
   "cell_type": "code",
   "execution_count": 49,
   "metadata": {},
   "outputs": [],
   "source": [
    "def predict_to_pd(file):\n",
    "    temp_list = []\n",
    "    for x in file['tweet']:\n",
    "        result = predict_class(word_tokenize(x))\n",
    "        temp_list.append(result)\n",
    "    return temp_list    "
   ]
  },
  {
   "cell_type": "code",
   "execution_count": 50,
   "metadata": {},
   "outputs": [],
   "source": [
    "##predict_to_pd(val)\n",
    "target_val = [row['target'] for index,row in val.iterrows()]\n",
    "##print(target_val)"
   ]
  },
  {
   "cell_type": "markdown",
   "metadata": {},
   "source": [
    "### Checking the score"
   ]
  },
  {
   "cell_type": "code",
   "execution_count": 51,
   "metadata": {},
   "outputs": [],
   "source": [
    "def accuracy_score_naive_bayes(predictList,actualList):\n",
    "    i = 0\n",
    "    for x in range(len(actualList)):\n",
    "        if predictList[x] == actualList[x]:\n",
    "            i = i + 1\n",
    "        else:\n",
    "            i\n",
    "    score = i / len(actualList) \n",
    "    return 100*score"
   ]
  },
  {
   "cell_type": "code",
   "execution_count": 52,
   "metadata": {},
   "outputs": [
    {
     "name": "stdout",
     "output_type": "stream",
     "text": [
      "68.9453125\n"
     ]
    }
   ],
   "source": [
    "print(accuracy_score_naive_bayes(predict_to_pd(val),target_val))"
   ]
  },
  {
   "cell_type": "code",
   "execution_count": 53,
   "metadata": {},
   "outputs": [],
   "source": [
    "def precision_score_0_naive_bayes(predictList,actualList):\n",
    "    tp = 0\n",
    "    fp = 0\n",
    "    for x in range(len(actualList)):\n",
    "        if (actualList[x] == 0) and (actualList[x] == predictList[x]):\n",
    "            tp = tp + 1\n",
    "        elif (actualList[x] == 1) and (predictList[x] == 0):\n",
    "            fp = fp + 1\n",
    "    score = tp / (tp+fp)\n",
    "    return 100*score\n",
    "\n",
    "def precision_score_1_naive_bayes(predictList,actualList):\n",
    "    tp = 0\n",
    "    fp = 0\n",
    "    for x in range(len(actualList)):\n",
    "        if (actualList[x] == 1) and (actualList[x] == predictList[x]):\n",
    "            tp = tp + 1\n",
    "        elif (actualList[x] == 0) and (predictList[x] == 1):\n",
    "            fp = fp + 1\n",
    "    score = tp / (tp+fp)\n",
    "    return 100*score\n",
    "\n",
    "def recall_score_0_naive_bayes(predictList,actualList):\n",
    "    tp = 0\n",
    "    fn = 0\n",
    "    for x in range(len(actualList)):\n",
    "        if (actualList[x] == 0) and (actualList[x] == predictList[x]):\n",
    "            tp = tp + 1\n",
    "        elif (actualList[x] == 0) and (predictList[x] == 1):\n",
    "            fn = fn + 1\n",
    "    score = tp / (tp+fn)\n",
    "    return 100*score\n",
    "\n",
    "def recall_score_1_naive_bayes(predictList,actualList):\n",
    "    tp = 0\n",
    "    fn = 0\n",
    "    for x in range(len(actualList)):\n",
    "        if (actualList[x] == 1) and (actualList[x] == predictList[x]):\n",
    "            tp = tp + 1\n",
    "        elif (actualList[x] == 1) and (predictList[x] == 0):\n",
    "            fn = fn + 1\n",
    "    score = tp / (tp+fn)\n",
    "    return 100*score\n",
    "\n",
    "def f_measure_naive_bayes(precision,recall):\n",
    "    result = 2 * (precision * recall) / (precision + recall)\n",
    "    return result"
   ]
  },
  {
   "cell_type": "code",
   "execution_count": 54,
   "metadata": {},
   "outputs": [
    {
     "name": "stdout",
     "output_type": "stream",
     "text": [
      "precision score of 0 : 81.23249299719888\n",
      "precision socre of 1 : 40.64516129032258\n",
      "recall score of 0 : 75.91623036649214\n",
      "recall socre of 1 : 48.46153846153846\n",
      "f measure 0 score: 78.48443843031122\n",
      "f measure 1 score: 60.706750178598135\n"
     ]
    }
   ],
   "source": [
    "print(\"precision score of 0 :\",precision_score_0_naive_bayes(predict_to_pd(val),target_val))\n",
    "print(\"precision socre of 1 :\",precision_score_1_naive_bayes(predict_to_pd(val),target_val))\n",
    "\n",
    "print(\"recall score of 0 :\",recall_score_0_naive_bayes(predict_to_pd(val),target_val))\n",
    "print(\"recall socre of 1 :\",recall_score_1_naive_bayes(predict_to_pd(val),target_val))\n",
    "\n",
    "print(\"f measure 0 score:\",f_measure_naive_bayes(precision_score_0_naive_bayes(predict_to_pd(val),target_val),recall_score_0_naive_bayes(predict_to_pd(val),target_val)))\n",
    "print(\"f measure 1 score:\",f_measure_naive_bayes(precision_score_0_naive_bayes(predict_to_pd(val),target_val),recall_score_1_naive_bayes(predict_to_pd(val),target_val)))"
   ]
  },
  {
   "cell_type": "markdown",
   "metadata": {},
   "source": [
    "### SVM classifications"
   ]
  },
  {
   "cell_type": "code",
   "execution_count": 55,
   "metadata": {},
   "outputs": [],
   "source": [
    "from nltk import pos_tag\n",
    "from sklearn.preprocessing import LabelEncoder\n",
    "from collections import defaultdict\n",
    "from nltk.corpus import wordnet as wn\n",
    "from sklearn.feature_extraction.text import TfidfVectorizer\n",
    "from sklearn import model_selection, naive_bayes, svm\n",
    "from sklearn.metrics import accuracy_score, f1_score, precision_score, recall_score"
   ]
  },
  {
   "cell_type": "code",
   "execution_count": 56,
   "metadata": {},
   "outputs": [],
   "source": [
    "Encoder = LabelEncoder()"
   ]
  },
  {
   "cell_type": "code",
   "execution_count": 57,
   "metadata": {},
   "outputs": [
    {
     "data": {
      "text/plain": [
       "TfidfVectorizer(max_features=5000)"
      ]
     },
     "execution_count": 57,
     "metadata": {},
     "output_type": "execute_result"
    }
   ],
   "source": [
    "Tfidf_vect = TfidfVectorizer(max_features=5000)\n",
    "Tfidf_vect.fit(train['tweet'])"
   ]
  },
  {
   "cell_type": "code",
   "execution_count": 58,
   "metadata": {},
   "outputs": [
    {
     "name": "stdout",
     "output_type": "stream",
     "text": [
      "{'really': 2866, 'wish': 3880, 'would': 3913, 'time': 3553, 'draw': 1059, 'blog': 421, 'sure': 3424, 'helpful': 1629, 'many': 2124, 'cut': 854, 'ankle': 170, 'easier': 1095, 'hide': 1640, 'handle': 1578, 'people': 2591, 'find': 1327, 'pretend': 2729, 'care': 558, 'hurt': 1713, 'everything': 1215, 'come': 704, 'back': 290, 'sudden': 3393, 'good': 1505, 'feel': 1307, 'ten': 3487, 'month': 2262, 'hiatus': 1639, 'watch': 3807, 'movie': 2286, 'multiplex': 2294, 'ugly': 3662, 'maybe': 2151, 'better': 378, 'matter': 2146, 'much': 2292, 'light': 2002, 'forest': 1375, 'end': 1158, 'get': 1467, 'lose': 2057, 'im': 1746, 'sad': 3023, 'empty': 1156, 'suicidal': 3403, 'admit': 83, 'moments': 2250, 'wonder': 3892, 'despite': 960, 'physically': 2632, 'unwell': 3703, 'past': 2571, 'week': 3830, 'mentally': 2191, 'strong': 3371, 'right': 2964, 'genuinely': 1463, 'excite': 1225, 'opportunity': 2503, 'kick': 1918, 'make': 2102, 'life': 1997, 'overcome': 2533, 'one': 2487, 'step': 3335, 'oh': 2471, 'crap': 812, 'hundred': 1710, 'poker': 2681, 'game': 1450, 'yesterday': 3947, 'today': 3567, 'die': 983, 'mech': 2164, 'fortnite': 1383, 'go': 1495, 'black': 408, 'profile': 2753, 'smh': 3229, 'head': 1607, 'temporary': 3485, 'break': 468, 'enjoy': 1167, 'rounda': 2999, 'rousey': 3001, 'loss': 2058, 'abusive': 53, 'bitch': 402, 'deserve': 952, 'need': 2343, 'concert': 739, 'even': 1206, 'sexual': 3129, 'way': 3813, 'crave': 815, 'affection': 96, 'like': 2007, 'want': 3796, 'someone': 3261, 'hug': 1700, 'couple': 802, 'hours': 1692, 'tell': 3482, 'okay': 2474, 'sometimes': 3264, 'worth': 3908, 'witness': 3885, 'fuck': 1422, 'society': 3252, 'pass': 2570, 'school': 3068, 'rainy': 2832, 'day': 890, 'spend': 3294, 'new': 2362, 'year': 3940, 'home': 1664, 'alone': 139, 'lonely': 2046, 'night': 2378, 'edinburgh': 1107, 'perfect': 2594, 'godforsaken': 1500, 'place': 2653, 'lay': 1966, 'bed': 351, 'til': 3551, 'work': 3899, 'highlight': 1643, 'drink': 1066, 'tonight': 3577, 'moment': 2248, 'without': 3884, 'world': 3904, 'dark': 878, 'last': 1956, 'ever': 1210, 'woo': 3895, 'happy': 1586, 'buy': 530, 'ticket': 3545, 'see': 3090, 'next': 2365, 'summer': 3409, 'dublincan': 1073, 'wait': 3770, 'almost': 138, 'rear': 2870, 'stupidly': 3383, 'bad': 293, 'earlier': 1089, 'brain': 463, 'body': 432, 'exhaust': 1229, 'anxiety': 186, 'struggle': 3376, 'bother': 448, 'vaca': 3723, 'run': 3012, 'kitten': 1931, 'front': 1415, 'house': 1693, 'later': 1959, 'incur': 1770, 'severe': 3125, 'blood': 424, 'well': 3839, 'thing': 3519, 'anymore': 190, 'tho': 3527, 'give': 1485, 'answer': 180, 'bottom': 450, 'single': 3192, 'christian': 636, 'friend': 1408, 'change': 591, 'name': 2319, 'service': 3117, 'hospitals': 1682, 'spell': 3292, 'dr': 1055, 'sanjeev': 3046, 'take': 3454, 'thank': 3504, 'use': 3715, 'afghanistan': 98, 'policy': 2683, 'pretty': 2731, 'smart': 3224, 'nps': 2423, 'look': 2050, 'directly': 998, 'sun': 3411, 'days': 891, 'settle': 3120, 'soul': 3277, 'eye': 1253, 'twinkle': 3650, 'lips': 2016, 'forget': 1377, 'sink': 3193, 'smile': 3230, 'money': 2258, 'gift': 1478, 'anyone': 191, 'pay': 2577, 'bill': 393, 'choose': 633, 'happiness': 1585, 'success': 3390, 'failure': 1263, 'expect': 1234, 'system': 3442, 'health': 1612, 'education': 1111, 'among': 153, 'profitable': 2755, 'commercial': 713, 'businesses': 525, 'hello': 1627, 'darkness': 880, 'old': 2475, 'talk': 3457, 'jus': 1897, 'something': 3262, 'put': 2801, 'love': 2065, 'youu': 3954, 'motivate': 2277, 'keep': 1908, 'bless': 417, 'timmy': 3558, 'say': 3062, 'depress': 943, 'eboy': 1099, 'early': 1090, 'session': 3118, 'morning': 2270, 'surprise': 3425, 'actually': 72, 'help': 1628, 'reduce': 2883, 'walmart': 3778, 'pajamas': 2551, 'tryna': 3634, 'somone': 3266, 'confuse': 748, 'huhh': 1702, 'bore': 445, 'hell': 1625, 'happen': 1582, 'person': 2609, 'least': 1974, 'two': 3654, 'weeks': 3832, 'mood': 2265, 'social': 3251, 'creatures': 821, 'connections': 754, 'nowadays': 2419, 'band': 306, 'together': 3569, 'hunt': 1712, 'food': 1370, 'adequately': 80, 'maintain': 2099, 'friendships': 1412, 'ward': 3799, 'lead': 1970, 'depression': 945, 'immune': 1751, 'disorder': 1016, 'disease': 1010, 'cause': 573, 'inflammation': 1784, 'dont': 1041, 'wannacry': 3784, 'sorry': 3275, 'hard': 1587, 'sick': 3172, 'son': 3267, 'hospital': 1681, 'eve': 1205, 'beloved': 365, 'split': 3300, 'promise': 2761, 'tomorrow': 3574, 'endless': 1159, 'possibilities': 2697, 'difficult': 990, 'roads': 2981, 'often': 2470, 'beautiful': 345, 'destinations': 961, 'hate': 1601, 'tan': 3459, 'line': 2012, 'refuse': 2887, 'salon': 3038, 'tue': 3639, 'blue': 428, 'stop': 3345, 'complain': 727, 'recognize': 2878, 'institutionalize': 1805, 'self': 3095, 'sufficiency': 3397, 'pathologized': 2572, 'human': 1703, 'interaction': 1811, 'child': 617, 'scar': 3063, 'monsters': 2260, 'beneath': 366, 'older': 2476, 'realize': 2865, 'monster': 2259, 'less': 1989, 'facial': 1258, 'amp': 156, 'mental': 2190, 'age': 103, 'laugh': 1962, 'strongly': 3374, 'effectively': 1115, 'bear': 342, 'purpose': 2797, 'sit': 3197, 'nothing': 2413, 'spirit': 3297, 'fact': 1259, 'rn': 2978, 'do': 1031, 'cry': 839, 'masculine': 2138, 'mom': 2247, 'phone': 2626, 'exact': 1219, 'mind': 2224, 'may': 2150, 'offer': 2464, 'furnish': 1440, 'hope': 1672, 'intuitive': 1824, 'solutions': 3257, 'eleesha': 1135, 'forever': 1376, 'anything': 192, 'glad': 1486, 'able': 42, 'infinitely': 1783, 'revenge': 2947, 'write': 3917, 'journal': 1883, 'let': 1991, 'worst': 3907, 'part': 2564, 'christmas': 638, 'decorations': 914, 'lawdy': 1964, 'wannahelp': 3790, '1st': 3, 'ones': 2488, 'shit': 3152, 'prettier': 2730, 'team': 3471, 'uninspired': 3688, 'twenty': 3648, 'thirty': 3525, 'mins': 2229, 'think': 3523, 'ht': 1698, 'guess': 1543, 'and': 162, 'seven': 3122, 'ww': 3923, 'others': 2518, 'recreate': 2881, 'romantic': 2991, 'memories': 2188, 'chip': 626, 'shoulder': 3160, 'grim': 1531, 'reaper': 2869, 'hehehe': 1624, 'n9': 2311, 'pa': 2541, 'long': 2047, 'face': 1255, 'christ': 635, 'jesus': 1859, 'rejoice': 2897, 'anticipation': 182, 'chiropractor': 628, 'miss': 2235, 'crush': 837, 'idiot': 1730, 'dad': 863, 'number': 2435, 'know': 1935, 'bigger': 387, 'ask': 237, 'friends': 1410, 'might': 2212, 'sleep': 3212, 'drone': 1067, 'bomb': 438, 'anohni': 175, 'triple': 3622, 'chocolate': 631, 'melt': 2181, 'waiter': 3771, 'john': 1875, 'fourteen': 1388, 'nlet': 2390, 'heart': 1617, 'trouble': 3625, 'neither': 2353, 'afraid': 100, 'snap': 3237, 'chat': 602, 'add': 73, 'asap': 234, 'mateo': 2144, 'bkny': 407, 'control': 775, 'roller': 2989, 'coaster': 681, 'easy': 1096, 'guy': 1556, 'post': 2699, 'dms': 1029, 'open': 2499, 'libertyseeds': 1995, 'realdonaldtrump': 2861, 'lizcrokin': 2025, 'great': 1522, 'impractical': 1756, 'jokers': 1880, 'heartbeat': 1619, 'beach': 341, 'sand': 3044, 'sea': 3080, 'jelly': 1854, 'fish': 1335, 'though': 3529, 'eleven': 1136, 'five': 1340, 'saturday': 3055, 'eragon': 1192, 'instead': 1804, 'god': 1498, 'father': 1289, 'remain': 2909, 'remembrance': 2912, 'never': 2361, 'spiritual': 3298, 'pilgrimage': 2639, 'jay': 1850, 'retirement': 2943, 'drop': 1068, 'album': 123, 'try': 3633, 'everyone': 1214, 'loneliest': 2044, 'thousand': 3531, 'sixteen': 3200, 'best': 372, 'far': 1280, 'violent': 3752, 'men': 2189, 'song': 3268, 'hear': 1615, 'live': 2022, 'question': 2811, 'ndid': 2334, 'first': 1333, 'response': 2937, 'start': 3323, 'still': 3341, 'probably': 2742, 'moods': 2266, 'overnight': 2534, 'heck': 1622, 'us': 3713, 'hopeful': 1673, 'whole': 3858, 'suck': 3392, 'inside': 1795, 'absolutely': 48, 'tuesday': 3640, 'spoil': 3302, 'kylie': 1945, 'lip': 2015, 'kit': 1930, 'anxious': 187, 'future': 1442, 'peace': 2578, 'present': 2724, 'lao': 1954, 'tzu': 3658, 'separate': 3109, 'earth': 1094, 'delicious': 932, 'salad': 3033, 'drench': 1064, 'theon': 3513, 'nectar': 2342, 'greek': 1523, 'extra': 1248, 'virgin': 3753, 'olive': 2479, 'oil': 2472, 'mmm': 2240, 'nsoar': 2426, 'nunfurl': 2437, 'joy': 1886, 'nwishing': 2446, 'bright': 479, 'hobbit': 1656, 'battle': 327, 'armies': 223, 'weak': 3818, 'damn': 871, 'buzz': 531, 'happier': 1583, 'omg': 2486, 'hey': 1637, 'cure': 847, 'deprive': 947, 'mischievous': 2233, 'elf': 1137, 'represent': 2923, 'reminder': 2914, 'discomfort': 1005, 'boy': 458, 'experience': 1239, 'pain': 2546, 'constant': 759, 'sharp': 3137, 'exist': 1230, 'twitter': 3652, 'anywhere': 196, 'badly': 295, 'play': 2659, 'radio': 2828, 'station': 3326, 'total': 3587, 'eclipse': 1101, 'silence': 3180, 'suffocate': 3399, 'unbearable': 3673, 'deny': 942, 'comfort': 706, 'worse': 3906, 'fear': 1299, 'cane': 551, 'true': 3626, 'bae': 296, 'cap': 553, 'ur': 3711, 'relationship': 2899, 'fam': 1269, 'trip': 3621, 'nice': 2371, 'weather': 3824, 'sky': 3207, 'cream': 818, 'mummy': 2297, 'order': 2508, 'pizza': 2652, 'fridge': 1406, 'fight': 1319, 'hypocrisy': 1718, 'san': 3042, 'francisco': 1393, 'bite': 403, 'sister': 3195, 'entrepreneur': 1181, 'eighteen': 1126, 'real': 2860, 'flexibility': 1346, 'charge': 597, 'baby': 288, 'sw': 3429, 'gym': 1557, 'smash': 3227, 'humble': 1706, 'sight': 3176, 'lord': 2056, 'offend': 2462, 'dead': 895, 'interact': 1810, 'always': 148, 'prefer': 2720, 'quiver': 2816, 'enough': 1170, 'lyric': 2082, 'seventeen': 3123, 'somebody': 3259, 'ears': 1093, 'compose': 734, 'tire': 3560, 'breakdown': 469, 'point': 2677, 'burst': 521, 'tear': 3472, 'three': 3534, 'horrible': 1679, 'lot': 2059, 'believe': 361, 'key': 1917, 'attain': 255, 'near': 2336, 'piece': 2637, 'read': 2858, 'piss': 2648, 'trump': 3630, 'phew': 2624, 'adorable': 85, 'cat': 568, 'dog': 1035, 'snek': 3245, 'turn': 3643, 'outrageous': 2529, 'enuff': 1182, 'qually': 2804, 'race': 2825, 'sunday': 3412, 'positive': 2696, 'soon': 3271, 'invite': 1827, 'save': 3059, 'load': 2030, 'things': 3520, 'systems': 3443, 'due': 1076, 'economic': 1102, 'opportunities': 2502, 'increase': 1767, 'listen': 2019, 'commute': 721, 'subway': 3389, 'stare': 3322, 'xmas': 3928, 'michelle': 2204, 'clearly': 660, 'refer': 2884, 'vacation': 3724, 'servants': 3115, 'beck': 349, 'call': 539, 'years': 3941, 'journey': 1884, 'pet': 2615, 'seriously': 3113, 'minutes': 2230, 'awe': 280, 'amaze': 150, 'honestly': 1668, 'snow': 3247, 'avoid': 274, 'cleansers': 657, 'contain': 765, 'harsh': 1595, 'chemicals': 611, 'irritate': 1831, 'weaken': 3819, 'protective': 2767, 'barrier': 317, 'skin': 3204, 'natural': 2327, '40billion': 24, 'provoke': 2773, 'illuminate': 1744, 'book': 441, 'unite': 3691, 'connect': 752, 'humanity': 1704, 'hopelessness': 1676, 'enemy': 1162, 'prevail': 2732, 'persist': 2608, 'bryan': 498, 'stevenson': 3337, 'dull': 1078, 'beat': 343, 'room': 2993, 'distract': 1024, 'siblings': 3171, 'country': 801, 'music': 2302, 'gosh': 1512, 'lift': 2001, 'another': 178, 'talent': 3455, 'songs': 3269, 'stay': 3329, 'odd': 2459, 'everywhere': 1216, 'yr': 3955, 'could': 797, 'support': 3420, 'quebec': 2807, 'city': 648, 'family': 1272, 'store': 3347, 'leave': 1975, 'girl': 1480, 'behind': 356, 'cash': 565, 'register': 2889, 'longer': 2048, 'painful': 2547, 'edmonton': 1110, 'pray': 2716, 'dream': 1062, 'paralyze': 2561, 'chris': 634, 'hogan': 1658, 'ring': 2968, 'movies': 2287, 'forward': 1386, 'gif': 1476, 'daddy': 864, 'certain': 582, 'road': 2979, 'recovery': 2880, 'wind': 3873, 'conquer': 755, 'laughter': 1963, 'bring': 484, 'sisters': 3196, 'kill': 1922, 'ugh': 3660, 'trigger': 3620, 'saw': 3061, 'insta': 1800, 'white': 3854, 'winner': 3876, 'fall': 1266, 'asleep': 238, 'set': 3119, 'alarm': 120, 'wake': 3772, 'anyways': 195, 'wrong': 3920, 'birthday': 401, 'awesome': 281, 'fill': 1321, 'awesomeness': 282, 'simple': 3184, 'texting': 3501, 'rt': 3007, 'stayyoungmedia': 3330, 'harmful': 1592, 'side': 3173, 'effect': 1113, 'west': 3843, 'story': 3349, 'literally': 2020, 'user': 3718, 'unable': 3667, 'retain': 2942, 'learn': 1973, 'quite': 2815, 'suffer': 3396, 'periods': 2601, 'travel': 3613, 'state': 3324, 'seem': 3092, 'anna': 171, 'maria': 2131, 'island': 1834, 'wife': 3865, 'desperate': 956, 'hot': 1685, 'cup': 844, 'coffee': 685, 'maker': 2103, 'welcome': 3838, 'followers': 1368, 'mostly': 2274, 'nobody': 2397, 'crumble': 836, 'around': 226, 'nearly': 2338, 'fix': 1341, 'haha': 1561, 'yeah': 3939, 'dealer': 899, 'finish': 1331, 'mystic': 2308, 'messenger': 2197, 'didnt': 982, 'amount': 155, 'angst': 167, 'figure': 1320, 'lightning': 2004, 'strike': 3366, 'kind': 1924, 'abuse': 52, 'unbelievable': 3674, 'absolute': 47, 'disgrace': 1012, 'ideation': 1728, 'nightshe': 2382, 'confess': 744, 'plan': 2654, 'jump': 1894, 'bridgei': 476, 'idea': 1727, 'tar': 3460, 'tabby': 3446, 'abaci': 38, 'rabid': 2824, 'dab': 861, 'discourage': 1007, 'thomas': 3528, 'watson': 3810, 'creep': 823, 'uncharted': 3675, 'four': 1387, 'fun': 1433, 'ha': 1558, 'splay': 3299, 'video': 3748, 'eahelp': 1086, 'mcmalveiro': 2157, 'hi': 1638, 'miguel': 2215, 'update': 3705, 'claire': 650, 'wonderful': 3893, 'ian': 1720, 'bdubs': 338, 'cacacaca': 534, 'free': 1399, 'aspects': 239, 'produce': 2745, 'nplease': 2422, 'retweet': 2945, 'diagnose': 978, 'surround': 3426, 'assholes': 243, 'william': 3869, 'gibson': 1475, 'fracture': 1391, 'blame': 412, 'record': 2879, 'survive': 3427, 'follower': 1367, 'spread': 3309, 'miserable': 2234, 'job': 1871, 'poverty': 2706, 'neighborhoods': 2350, 'jews': 1863, 'yaay': 3933, 'finally': 1324, 'brave': 465, 'enought': 1171, 'comment': 712, 'vlive': 3760, 'kinda': 1925, 'poms': 2687, 'deeply': 919, 'presence': 2723, 'expressions': 1245, 'penetrate': 2588, 'performancei': 2598, 'pinterest': 2646, 'bank': 309, 'account': 64, 'wont': 3894, 'towards': 3597, 'fifteen': 1317, 'joyless': 1888, 'faith': 1264, 'external': 1247, 'power': 2708, 'structure': 3375, 'ultimately': 3666, '500l': 29, 'mean': 2159, 'communities': 719, 'individuals': 1773, 'crises': 830, 'temp': 3483, 'bird': 399, 'crazy': 817, 'fault': 1291, 'star': 3321, 'space': 3283, '20am': 4, 'wide': 3863, 'awake': 276, 'suppose': 3422, 'ass': 240, 'lazy': 1968, 'b4': 286, 'bf': 382, 'news': 2364, 'bro': 488, 'share': 3136, 'seat': 3084, 'senate': 3099, 'vote': 3766, 'reject': 2896, 'notion': 2416, 'grace': 1515, 'thread': 3532, 'hilarious': 1646, 'lifetime': 2000, 'stunner': 3381, 'cute': 855, 'mum': 2296, 'ae': 93, 'spot': 3306, 'wanty': 3797, 'niggas': 2377, 'move': 2283, 'definitely': 924, 'recently': 2876, 'lol': 2040, 'officially': 2468, 'worry': 3905, 'strength': 3360, 'practically': 2712, 'invisible': 1826, 'else': 1141, 'bar': 310, 'hill': 1647, 'fine': 1329, 'grandma': 1518, 'half': 1568, 'extremely': 1250, 'full': 1429, 'chronicpain': 640, 'normal': 2408, 'fulfil': 1427, 'existence': 1231, 'dec': 906, 'six': 3199, 'january': 1847, 'academia': 54, 'secretly': 3088, 'hang': 1580, 'posters': 2701, 'topic': 3585, 'university': 3692, 'ball': 304, 'zachary': 3960, 'scream': 3076, 'ta': 3444, 'big': 385, 'bcs': 335, 'duo': 1082, 'idk': 1731, 'gonna': 1504, 'lover': 2067, 'anyhow': 189, 'fp': 1390, 'summit': 3410, 'arm': 222, 'delaney': 930, 'manchester': 2116, 'transfer': 3607, 'congratulations': 750, 'become': 350, 'senior': 3103, 'lecturer': 1978, 'ill': 1741, 'bet': 375, 'meet': 2173, 'pill': 2640, 'millennials': 2219, 'eh': 1122, 'stand': 3320, 'little': 2021, 'smug': 3236, 'satisfy': 3052, 'snots': 3246, 'repress': 2924, 'emotions': 1153, 'nebulizer': 2339, 'sexy': 3131, 'pointless': 2678, 'statement': 3325, 'non': 2402, 'alive': 132, 'please': 2664, 'grab': 1514, 'onto': 2494, 'hold': 1659, 'glass': 1487, 'ray': 2850, 'vision': 3755, 'barber': 311, 'haircut': 1566, 'weight': 3834, 'grind': 1533, 'captain': 554, 'tom': 3571, 'blow': 427, 'dress': 1065, 'wannastay': 3795, 'ffxv': 1316, 'squad': 3312, 'donkeys': 1039, 'manage': 2114, 'own': 2539, 'contact': 764, 'neighbour': 2351, 'streak': 3357, 'sixty': 3201, 'tough': 3591, 'consider': 757, 'stigma': 3340, 'ignorance': 1734, 'millionaire': 2221, 'infact': 1781, 'keenly': 1907, 'observe': 2453, 'religion': 2907, 'haters': 1602, 'community': 720, 'currently': 850, 'attack': 254, 'ed': 1104, 'acc': 55, 'follow': 1366, 'ready': 2859, 'fuckk': 1424, 'chanyeol': 595, 'cheer': 606, 'clap': 651, 'loudly': 2063, 'funny': 1439, 'blend': 416, 'publicity': 2783, 'loneliness': 2045, 'project': 2759, 'lpn': 2071, 'program': 2756, 'october': 2458, 'fortress': 1384, 'solitude': 3255, 'holiday': 1662, 'merry': 2194, 'rough': 2997, 'choice': 632, 'clothe': 672, 'wear': 3822, 'mask': 2139, 'numb': 2434, 'away': 279, 'ot6': 2515, 'shitty': 3153, 'cuppa': 845, 'already': 144, 'epic': 1188, 'ep': 1186, 'throne': 3536, 'abt': 49, 'bb': 331, 'therapy': 3515, 'effective': 1114, 'option': 2506, 'treat': 3614, 'adolescents': 84, 'important': 1754, 'throughout': 3537, 'grey': 1528, 'hair': 1565, 'color': 698, 'relentless': 2904, 'goals': 1497, 'perseverance': 2606, 'joyful': 1887, 'dedication': 915, 'unwavering': 3702, 'focus': 1360, 'cookies': 782, 'intelligent': 1808, 'brilliant': 483, 'luv': 2077, 'weird': 3836, 'source': 3281, 'hmm': 1652, 'simply': 3185, 'daughters': 887, 'ni': 2369, 'obsess': 2454, 'festive': 1315, 'season': 3083, 'eight': 1125, 'pw': 2802, 'hon': 1666, 'dashwood': 882, 'whose': 3860, 'manners': 2122, 'meltdown': 2182, 'dinner': 995, 'canada': 546, 'ontario': 2493, 'boys': 460, 'rewatching': 2952, 'rkellys': 2976, 'trap': 3610, 'closet': 671, 'series': 3111, 'lovely': 2066, 'check': 605, 'church': 643, 'facebook': 1256, 'page': 2545, 'review': 2949, 'sats': 3053, 'wed': 3827, 'negativity': 2346, 'low': 2068, 'unwanted': 3701, 'especially': 1197, 'familyfeeling': 1273, 'jumper': 1895, 'colder': 692, 'terrific': 3494, 'tad': 3449, 'reach': 2855, 'mcgregor': 2155, 'clown': 675, 'cnt': 679, 'force': 1373, 'business': 524, 'ongoing': 2490, 'fade': 1261, 'envelop': 1183, 'crawl': 816, 'exactly': 1220, 'alike': 131, 'except': 1224, 'brief': 477, 'respite': 2936, 'divorce': 1027, 'slowly': 3220, 'dissipate': 1021, 'abandon': 39, 'debbie': 904, 'heaven': 1620, 'ths': 3540, 'burger': 517, 'eat': 1097, 'frm': 1413, 'ga': 1444, 'close': 668, 'halloweentown': 1572, 'fave': 1292, 'halloween': 1571, 'unlucky': 3694, 'coz': 810, 'mine': 2226, 'remember': 2911, 'difficulty': 992, 'every': 1211, 'winston': 3877, 'churchill': 644, 'souls': 3278, 'womb': 3890, 'additional': 77, 'burn': 518, 'mouth': 2282, 'stew': 3338, 'rush': 3014, 'nicu': 2374, 'tube': 3637, 'grow': 1538, 'brutal': 497, 'reality': 2863, 'honest': 1667, 'officials': 2469, 'blanket': 414, 'also': 146, 'outside': 2530, 'tweet': 3646, 'gushy': 1553, 'bilious': 392, 'possible': 2698, 'yes': 3945, 'xd': 3927, 'relationships': 2900, 'icsyv': 1724, 'show': 3164, 'march': 2129, 'offense': 2463, 'culture': 843, 'bbs': 332, 'personally': 2612, 'unaware': 3672, 'erosion': 1193, 'position': 2695, 'abundance': 50, 'priviledge': 2741, 'hopeless': 1675, 'population': 2691, 'reinforce': 2894, 'agendas': 104, 'false': 1267, 'defer': 921, 'sound': 3279, 'delightful': 934, 'elites': 1139, 'msm': 2291, 'rain': 2831, 'straight': 3350, 'doesnt': 1034, 'mee': 2172, 'trust': 3631, 'raiders': 2830, 'till': 3552, 'august': 264, 'hillary': 1648, 'president': 2726, 'potus': 2704, 'america': 152, 'since': 3187, 'deactivate': 894, 'stick': 3339, 'eighty': 1128, 'gain': 1448, 'ive': 1840, 'tyler': 3656, 'man': 2113, 'friday': 1405, 'devoid': 971, 'touch': 3590, 'send': 3102, 'twelve': 3647, 'favorite': 1293, 'disney': 1015, 'hit': 1650, 'ms': 2290, 'lopez': 2055, 'teacher': 3470, 'air': 117, 'film': 1322, 'interest': 1813, 'boyfriend': 459, 'sentence': 3106, 'rap': 2842, 'abort': 43, 'formula': 1381, 'rather': 2847, 'inertia': 1776, 'housewives': 1694, 'oth': 2516, 'type': 3657, 'mad': 2089, 'la': 1947, 'teach': 3469, 'meditate': 2169, 'understand': 3679, '3rd': 23, 'rude': 3009, 'disrespectful': 1019, 'manga': 2118, 'wannago': 3789, 'dissapointed': 1020, 'il': 1740, 'across': 68, 'generations': 1458, 'turkey': 3642, 'sandwich': 3045, 'mince': 2223, 'pie': 2636, 'company': 725, 'strangers': 3355, 'seldom': 3094, 'car': 555, 'quote': 2818, 'hash': 1597, 'tag': 3453, 'na': 2312, 'freedom': 1400, 'cars': 563, 'gadgets': 1447, 'workout': 3902, 'alongside': 141, 'thx': 3544, 'legs': 1983, 'closely': 669, 'associate': 246, 'fuckd': 1423, 'hat': 1600, 'halfway': 1569, 'dam': 869, 'shoot': 3157, 'dat': 883, 'cn': 677, 'hv': 1716, 'mah': 2097, 'lyf': 2079, 'hand': 1576, 'dn': 1030, 'wnt': 3888, 'cntd': 680, 'angry': 166, 'oneself': 2489, 'seulgi': 3121, 'fret': 1404, 'lyttleton': 2084, 'reason': 2871, 'despair': 955, 'completely': 730, 'performance': 2597, 'purple': 2796, 'gold': 1503, 'awhile': 284, 'presentation': 2725, 'uni': 3685, 'kid': 1919, 'lmao': 2028, 'liable': 1993, 'hop': 1671, 'flight': 1348, 'vin': 3751, 'diesel': 984, 'cool': 783, 'riddick': 2961, 'pitch': 2649, 'must': 2303, 'clinically': 664, 'ft': 1419, 'gossip': 1513, 'garment': 1453, 'heaviness': 1621, 'evil': 1217, 'device': 968, 'devil': 969, 'deal': 898, 'hound': 1690, 'inner': 1793, 'tch': 3467, 'prisoner': 2740, 'ignore': 1736, 'voice': 3763, 'thoughts': 3530, 'shine': 3147, 'teeqo': 3479, 'omegle': 2483, 'benny': 369, 'shuffle': 3168, 'short': 3159, 'bunch': 515, 'painless': 2549, 'whenever': 3847, 'screw': 3078, 'steve': 3336, 'upset': 3709, 'strange': 3353, 'rock': 2985, 'netflix': 2357, 'begin': 355, 'dangers': 875, 'danger': 873, 'documentaries': 1033, 'remind': 2913, 'fuckn': 1425, 'serious': 3112, 'july': 1893, 'singapore': 3191, 'accompany': 60, 'interview': 1818, 'japanese': 1848, 'illumination': 1745, 'girlfriend': 1481, 'phil': 2625, 'senator': 3100, 'constituents': 761, 'poll': 2686, 'jd': 1852, 'coke': 689, 'slightly': 3217, 'apprehensive': 212, 'weekend': 3831, 'friended': 1409, 'ptsd': 2780, 'favour': 1295, 'commission': 715, 'holy': 1663, 'moley': 2245, 'dread': 1061, 'extrovert': 1251, 'ephemeral': 1187, 'relief': 2906, 'headache': 1608, 'nyc': 2447, 'beleive': 360, 'months': 2263, 'fast': 1286, 'flame': 1342, 'taste': 3465, 'text': 3499, 'snapchat': 3238, 'kyungsoo': 1946, 'gloomy': 1491, 'instant': 1802, 'physical': 2630, 'problems': 2744, 'act': 69, 'emotional': 1151, 'unimportant': 3687, 'extreme': 1249, 'pressure': 2728, 'ballroom': 305, 'dance': 872, 'class': 653, 'advice': 90, 'timer': 3555, 'anniversary': 173, 'shawty': 3140, 'aw': 275, 'fist': 1337, 'television': 3481, 'yet': 3948, 'row': 3003, 'high': 1641, 'tackle': 3447, 'outstanding': 2531, 'congrats': 749, '50th': 30, 'heehee': 1623, 'chuckle': 642, 'dry': 1072, 'goodbye': 1506, 'deeper': 917, 'river': 2975, 'flow': 1354, 'downstream': 1053, 'degrade': 927, 'strongest': 3373, 'minerals': 2227, 'ocean': 2457, 'gabe': 1445, 'suicide': 3404, 'fifty': 1318, 'peak': 2580, 'forty': 1385, 'irrespective': 1830, 'level': 1992, 'sympathize': 3439, 'rest': 2940, 'sus': 3428, 'ya': 3931, 'bitter': 404, 'cultivate': 842, 'supportive': 3421, 'wannalay': 3792, 'perfectly': 2595, 'fatigue': 1290, 'unmotivated': 3695, 'sweet': 3433, 'word': 3897, 'encouragement': 1157, 'mobilize': 2241, 'chinese': 625, 'buffet': 505, 'proud': 2769, 'super': 3417, 'yaayy': 3934, 'brother': 493, 'transport': 3609, 'card': 556, 'lemar': 1986, 'wenger': 3842, 'coy': 809, 'press': 2727, 'conference': 743, 'jobless': 1872, 'nite': 2387, 'condition': 742, 'subnatica': 3385, 'igp': 1737, 'report': 2922, 'multiple': 2293, 'symptoms': 3440, 'headaches': 1609, 'digestive': 993, 'truly': 3629, 'decide': 911, 'thankful': 3505, 'waterfowl': 3809, 'bowfishing': 454, 'gun': 1550, 'laws': 1965, 'background': 291, 'problem': 2743, 'alleviate': 133, 'unnecessary': 3696, 'continue': 770, 'consequences': 756, 'ppl': 2711, 'prevent': 2733, 'heal': 1611, 'upon': 3708, 'weary': 3823, 'young': 3950, 'lady': 1951, 'win': 3872, 'swear': 3431, 'victory': 3747, 'bitterness': 405, 'defeat': 920, 'spellbind': 3293, 'electric': 1134, 'physicality': 2631, 'sheer': 3141, 'pleasure': 2665, 'lp': 2070, 'creator': 820, 'jack': 1841, 'dorsey': 1046, 'definition': 925, 'inconsequential': 1766, 'information': 1787, 'chirp': 629, 'fail': 1262, 'allow': 134, 'ability': 41, 'function': 1434, 'meds': 2171, 'productive': 2747, 'lunch': 2075, 'bc': 333, 'evaluation': 1204, 'wing': 3875, 'wednesday': 3828, 'writer': 3918, 'finals': 1325, 'thirteen': 3524, 'chance': 589, 'flour': 1353, 'smallest': 3223, 'difference': 987, 'swim': 3436, 'weightlessness': 3835, 'february': 1303, 'rebound': 2872, 'park': 2563, 'rec': 2873, 'twice': 3649, 'kiss': 1928, 'thankyou': 3508, 'retweets': 2946, 'diagnosis': 979, 'denial': 941, 'ego': 1120, 'instruct': 1806, 'reverse': 2948, 'search': 3081, 'antidepressants': 183, 'swell': 3435, 'salvador': 3039, 'dal': 867, 'courage': 804, 'teens': 3478, 'rise': 2971, 'grief': 1529, 'luck': 2073, 'chandler': 590, 'spokane': 3303, 'email': 1143, 'tooth': 3583, 'ache': 65, 'anatomy': 161, 'grateful': 1521, 'progress': 2757, 'discover': 1009, 'mess': 2195, 'lie': 1996, 'event': 1207, 'diseases': 1011, 'drs': 1070, 'joan': 1870, 'peter': 2616, 'cohn': 687, 'ariana': 221, 'calendar': 538, 'nearest': 2337, 'meme': 2185, 'direction': 997, 'rancid': 2837, 'meat': 2163, 'tremendous': 3617, 'initiative': 1789, 'gettin': 1468, 'bday': 337, 'pandar': 2557, 'molom': 2246, 'successful': 3391, 'manu': 2123, 'stride': 3365, 'noble': 2396, 'memorable': 2187, 'content': 767, 'shady': 3133, 'crevice': 825, 'christina': 637, 'rossetti': 2996, 'taas': 3445, 'kamay': 1898, 'ko': 1938, 'di': 977, 'maretrieve': 2130, 'ung': 3683, 'picture': 2635, 'tour': 3595, 'mark': 2134, 'kyadondo': 1944, 'terrorist': 3495, 'mourn': 2281, 'endure': 1161, 'obama': 2451, 'vibe': 3742, 'local': 2035, 'texas': 3498, 'roadhouse': 2980, 'seek': 3091, 'tune': 3641, 'ect': 1103, 'catnap': 571, 'apparently': 203, 'mention': 2192, 'badge': 294, 'funk': 1437, 'psalm': 2776, 'kjv': 1932, 'righteous': 2965, 'heareth': 1616, 'delivereth': 935, 'moon': 2267, 'hopefully': 1674, 'busy': 526, 'shower': 3165, 'wash': 3803, 'boxset': 457, 'nail': 2317, 'amuse': 157, 'whn': 3856, 'cuz': 857, 'thn': 3526, 'huv': 1715, 'nonsense': 2404, 'movement': 2284, 'clock': 666, 'bukowski': 509, 'sadness': 3027, 'disappointment': 1003, 'million': 2220, 'along': 140, 'respectable': 2935, 'despise': 959, 'olives': 2481, 'hardest': 1590, 'push': 2800, 'thru': 3539, 'message': 2196, 'apology': 201, 'apologize': 200, 'opposite': 2504, 'smell': 3228, 'desperation': 958, 'favourite': 1296, 'tv': 3645, 'main': 2098, 'character': 596, 'unhappy': 3684, 'cold': 691, 'ripe': 2970, 'cookers': 780, 'autumn': 270, 'south': 3282, 'buckinghamshire': 501, 'isnt': 1835, 'thats': 3509, 'kusadasi': 1943, 'weathly': 3825, 'healthy': 1614, 'accomplishments': 62, 'exercise': 1228, '2wheel': 17, 'course': 805, 'pune': 2789, 'tip': 3559, 'hmu': 1653, 'friendship': 1411, 'group': 1537, 'double': 1050, 'mastectomy': 2141, 'radiation': 2827, 'killers': 1923, 'stage': 3318, 'cancer': 548, 'november': 2418, '21st': 6, 'jan': 1846, 'nineteen': 2384, 'emotionally': 1152, 'lively': 2023, 'ghd': 1471, 'boot': 444, 'straighter': 3351, 'sigh': 3175, '75mg': 33, 'medication': 2167, 'butt': 527, 'kdramass': 1905, 'ofcourse': 2461, 'pll': 2667, 'bigbang': 386, 'theory': 3514, 'whiskey': 3853, 'jk': 1867, 'unless': 3693, 'saint': 3031, 'rabbit': 2823, 'nso': 2425, 'insecure': 1794, 'withhold': 3883, 'praise': 2714, 'achievements': 66, 'cancel': 547, 'gg': 1470, 'eo': 1185, 'apink': 199, 'rv': 3017, 'mamamoo': 2110, 'jjang': 1866, 'sing': 3190, 'bmth': 429, 'alexandria': 128, 'mice': 2203, 'rip': 2969, 'parent': 2562, 'eardrums': 1088, 'partner': 2567, 'emotion': 1150, 'signal': 3178, 'top': 3584, 'idol': 1732, 'ago': 107, 'cripple': 829, 'upward': 3710, 'trend': 3618, 'concentrate': 737, 'detail': 963, 'decisions': 913, 'contemplate': 766, 'attempt': 256, 'commit': 716, 'silently': 3181, 'bullshit': 512, 'note': 2410, 'excuse': 1227, 'anyway': 194, 'fake': 1265, 'yasso': 3937, '800s': 34, 'internal': 1815, 'timesdepression': 3556, 'chan': 588, 'hamilton': 1573, 'pumpkin': 2787, 'automatic': 269, 'solar': 3254, 'annoy': 174, 'various': 3731, 'outlets': 2526, 'mix': 2239, 'crowd': 833, 'tension': 3489, 'combine': 703, 'accept': 56, 'complicate': 732, 'organ': 2510, 'fellow': 1311, 'bump': 514, 'adeleke': 79, 'roll': 2988, 'dude': 1074, 'bougie': 451, 'media': 2165, 'alpha': 143, 'trial': 3619, 'sell': 3098, 'subscription': 3387, 'incredible': 1769, 'mutuals': 2305, 'puppy': 2792, 'breakfast': 471, 'tiffany': 3549, 'soundtrack': 3280, 'perform': 2596, 'audrey': 263, 'hepburn': 1631, 'whats': 3846, 'slice': 3214, 'jem': 1855, 'yum': 3957, 'selfie': 3096, 'monday': 2255, 'entertainment': 1176, 'sweater': 3432, 'utterly': 3722, 'somehow': 3260, 'sufficient': 3398, 'elude': 1142, 'faster': 1287, 'stretch': 3363, 'farther': 1283, 'although': 147, 'fry': 1418, 'frie': 1407, 'corner': 790, 'ok': 2473, 'wound': 3914, 'demons': 938, '2days': 12, 'galaxy': 1449, 'global': 1490, 'eatery': 1098, 'stuff': 3379, 'lyft': 2080, 'code': 683, 'oath': 2450, 'kik': 1921, 'wen': 3841, 'credit': 822, 'milk': 2218, 'ditch': 1026, 'appear': 205, 'dudes': 1075, 'toward': 3596, 'laudable': 1960, 'goal': 1496, 'audition': 262, 'role': 2986, 'determine': 965, 'string': 3367, 'scissor': 3072, 'knife': 1933, 'deadass': 896, 'button': 529, 'late': 1957, 'mountains': 2280, 'appetizer': 207, 'consist': 758, 'pop': 2690, 'tarts': 3463, 'folk': 1364, 'flutter': 1356, 'riv': 2974, 'girls': 1484, 'jerk': 1857, 'sperm': 3295, 'donor': 1040, 'plum': 2670, 'blossom': 426, 'pattern': 2575, 'ceramic': 581, 'smoke': 3235, 'pipe': 2647, '4am': 26, 'angsty': 168, 'injury': 1791, 'adventure': 88, 'carrie': 561, 'fisher': 1336, 'glee': 1489, 'billy': 395, 'joel': 1874, 'alright': 145, 'charlie': 599, 'st': 3315, 'cloud': 673, 'garden': 1452, 'notebook': 2411, 'protein': 2768, 'shake': 3134, 'assure': 248, 'gms': 1494, 'whey': 3850, 'realization': 2864, 'outlast': 2524, 'indeed': 1771, 'goddamn': 1499, 'sadest': 3025, 'war': 3798, 'tony': 3580, 'rag': 2829, 'root': 2994, 'spring': 3311, 'lynx': 2081, 'box': 455, 'grant': 1520, 'mexican': 2201, 'foods': 1371, 'girlies': 1483, 'enjoyment': 1168, 'ex': 1218, 'clean': 655, 'strictly': 3364, 'memes': 2186, 'youtube': 3952, 'bcx': 336, 'texts': 3502, 'boss': 446, 'talkspace': 3458, 'cost': 795, 'billion': 394, 'absenteeism': 46, 'productivity': 2748, 'result': 2941, 'falter': 1268, 'katli': 1903, 'drown': 1069, 'homeworks': 1665, 'assignments': 244, 'september': 3110, 'handful': 1577, 'pills': 2641, 'ninety': 2385, 'realise': 2862, 'ashamed': 236, 'contract': 772, 'permanent': 2603, 'amongst': 154, 'geny': 1464, 'seventy': 3124, 'profit': 2754, 'organization': 2511, 'respect': 2934, 'anybody': 188, 'vs': 3768, 'funky': 1438, 'town': 3598, 'hanover': 1581, 'terminus': 3492, 'wholesome': 3859, 'compliment': 733, '2am': 11, 'truetwit': 3628, 'nwho': 2444, 'brightly': 482, 'nwell': 2442, 'reckon': 2877, 'nand': 2320, 'rightly': 2966, 'mindfulness': 2225, 'application': 209, 'powerful': 2709, 'approach': 213, 'lil': 2009, 'boat': 430, 'middle': 2208, 'batter': 326, 'beyond': 381, 'victoria': 3746, 'secret': 3087, 'fashion': 1284, 'error': 1194, '3kohge': 22, 'buddhism': 502, 'verse': 3739, 'cleanse': 656, 'incense': 1762, 'goodmorning': 1508, 'aggravate': 106, 'oomf': 2497, 'queen': 2808, 'macron': 2088, 'slip': 3218, 'clarity': 652, 'common': 717, 'sense': 3104, 'racist': 2826, 'cuddle': 841, 'soo': 3270, 'linkedin': 2013, 'headphones': 1610, 'giggle': 1479, 'ssri': 3314, 'notice': 2414, 'nah': 2316, 'subscrib': 3386, 'r60': 2821, 'pm': 2672, 'r3': 2820, 'thus': 3543, 'anada': 158, 'r90': 2822, 'stream': 3358, 'de': 893, 'app': 202, 'data': 884, 'flood': 1351, 'whilst': 3851, 'gogglebox': 1501, 'strapless': 3356, 'awful': 283, 'njulianne': 2389, 'hough': 1689, 'ebullient': 1100, 'ih': 1738, 'bul': 510, 'yunt': 3959, 'adjboiling': 81, 'bubble': 500, 'excitement': 1226, 'exuberant': 1252, 'boil': 434, 'liquid': 2017, 'enthusiastic': 1177, 'knowledgeable': 1937, 'woman': 3889, 'inexperienced': 1778, 'male': 2108, 'moron': 2271, 'sext': 3128, 'vicar': 3744, 'twist': 3651, 'contribution': 774, 'jesuschristwillhelpyouaccomplishyourdream': 1861, 'nephew': 2355, 'cookie': 781, 'kerb': 1913, 'quest': 2810, 'decent': 910, 'barista': 314, 'party': 2568, 'truely': 3627, 'lighthouse': 2003, 'modern': 2243, 'fog': 1361, 'highly': 1644, 'suggest': 3402, 'article': 230, 'purchase': 2793, 'walk': 3773, 'momentarily': 2249, 'missus': 2236, 'tuck': 3638, 'earplugs': 1092, 'yaas': 3932, 'scotty': 3074, 'sinclair': 3189, 'december': 909, 'aint': 116, 'flinch': 1349, 'tool': 3581, 'sort': 3276, 'bloody': 425, 'judge': 1890, 'vent': 3734, 'tiwala': 3563, 'pls': 2669, 'fb': 1297, 'arrive': 228, 'rid': 2960, 'metro': 2200, 'palpable': 2555, 'casper': 566, 'wyoming': 3925, 'totality': 3588, 'smartest': 3226, 'complex': 731, 'lengthy': 1988, 'negotiation': 2348, 'savage': 3058, 'prof': 2749, 'fruit': 1417, 'wow': 3915, 'truth': 3632, 'anoint': 176, 'runneth': 3013, 'pour': 2705, 'mario': 2133, 'manic': 2120, 'husband': 1714, 'fly': 1357, 'lottery': 2060, 'escape': 1195, 'clear': 658, 'skinnier': 3205, 'smarter': 3225, 'dawn': 889, 'browse': 495, 'instagram': 1801, 'rich': 2958, 'winter': 3878, 'migrate': 2214, 'abroad': 45, 'leg': 1980, 'stroke': 3370, 'maladies': 2106, 'burnout': 519, 'decade': 907, 'pervasive': 2614, 'technique': 3475, 'adult': 86, 'chili': 620, 'powder': 2707, 'cinnamon': 646, 'whatever': 3845, 'sacrifice': 3022, 'mockingbird': 2242, 'random': 2838, 'playlist': 2662, 'toon': 3582, 'cheese': 608, 'cake': 537, 'cast': 567, 'potential': 2702, 'photography': 2628, 'gunna': 1551, 'tommorow': 3573, 'hesitate': 1634, 'fisto': 1338, 'lightsaber': 2005, 'boise': 436, 'ak': 119, 'nine': 2383, 'isolation': 1836, 'ahahhahahaha': 111, 'relevant': 2905, 'cant': 552, 'gut': 1554, 'unproductive': 3699, 'expectations': 1235, 'worthwhile': 3911, 'detox': 966, 'bell': 362, 'ice': 1723, 'freezer': 1402, 'makeup': 2105, 'comfy': 708, 'jeans': 1853, 'anne': 172, 'ways': 3814, 'cope': 785, 'participate': 2565, 'sport': 3305, 'activities': 71, 'balance': 302, 'majority': 2101, 'members': 2184, 'public': 2781, 'voters': 3767, 'madrid': 2092, 'throw': 3538, 'huff': 1699, 'morata': 2268, 'gea': 1456, 'converse': 777, 'steal': 3332, 'corrie': 791, 'mate': 2143, 'birth': 400, 'mosquito': 2273, 'thigh': 3518, 'action': 70, 'edgy': 1106, 'teenager': 3477, 'pfp': 2618, 'whether': 3849, 'safe': 3028, 'plane': 2655, 'wave': 3812, 'curl': 848, 'ntake': 2427, 'betrayal': 377, 'disappointments': 1004, 'feet': 1308, 'grinchmas': 1532, 'felt': 1312, 'refill': 2885, 'holder': 1660, 'zoloft': 3964, 'wtf': 3921, 'dumb': 1079, '30pm': 21, 'special': 3287, 'sope': 3272, 'otsukare': 2521, 'occasion': 2456, 'final': 1323, 'min': 2222, 'binge': 396, 'purge': 2795, 'alas': 121, 'loaf': 2031, 'bread': 467, 'nightmare': 2379, 'hercules': 1632, 'sir': 3194, 'ndts': 2335, 'boom': 442, 'afridi': 101, 'apart': 197, 'include': 1765, 'centre': 580, 'israel': 1837, 'isaiah': 1833, 'strengthen': 3361, 'sneakers': 3244, 'bike': 390, 'miles': 2217, 'weep': 3833, 'release': 2903, 'transcend': 3605, 'mater': 2145, 'sideways': 3174, 'giant': 1473, 'none': 2403, 'candle': 550, 'calm': 541, 'perhaps': 2599, 'introvert': 1822, 'accord': 63, 'esp': 1196, 'blonde': 423, 'nude': 2433, 'workouts': 3903, 'degrees': 929, 'outlet': 2525, 'platform': 2657, 'quiet': 2814, 'illness': 1742, 'vital': 3759, 'medicine': 2168, 'combat': 701, 'incline': 1764, 'bren': 474, 'ahead': 112, 'drug': 1071, 'rapid': 2843, 'treatment': 3615, 'lanicemine': 1953, 'sanacora': 3043, 'mol': 2244, 'psychiatry': 2778, 'cross': 832, 'purposeful': 2798, 'meaningful': 2160, 'abundant': 51, 'eternal': 1201, 'hasnt': 1599, 'feed': 1306, 'tight': 3550, 'afternoon': 102, 'delight': 933, 'supper': 3419, 'phase': 2622, 'imagine': 1749, 'door': 1043, 'knock': 1934, 'terrible': 3493, 'dammit': 870, 'punch': 2788, 'dick': 981, 'boundaries': 452, 'eventually': 1209, 'create': 819, 'unintended': 3689, 'stress': 3362, 'seas': 3082, 'fire': 1332, 'dallas': 868, 'bury': 522, 'gene': 1457, 'simmons': 3183, 'phd': 2623, 'wellbeing': 3840, 'deepest': 918, 'darkest': 879, 'depths': 948, 'photos': 2629, 'nit': 2386, 'magical': 2096, 'death': 903, 'graduate': 1517, 'gf': 1469, 'yrs': 3956, 'bake': 300, 'goods': 1509, 'df': 974, 'bonus': 439, 'serve': 3116, 'roles': 2987, 'design': 953, 'eg': 1119, 'size': 3202, 'fit': 1339, 'eherium': 1123, 'everybody': 1212, 'regret': 2890, 'anotherazntart': 179, 'sa': 3020, 'pero': 2605, 'wattpad': 3811, 'fulfill': 1428, 'hahaha': 1563, 'shop': 3158, 'shoe': 3156, 'tl': 3564, 'explode': 1241, 'bois': 435, 'rb': 2851, 'folks': 1365, 'foam': 1359, 'rlly': 2977, 'crash': 814, 'injure': 1790, 'sentimental': 3108, 'jewellery': 1862, 'sincerely': 3188, 'lmfao': 2029, 'sober': 3250, 'backwards': 292, 'date': 885, 'disconnect': 1006, 'loose': 2053, 'nwhat': 2443, 'customer': 853, 'inform': 1786, 'op': 2498, 'lt': 2072, 'mekka': 2176, 'madina': 2090, 'dikling': 994, 'dirty': 999, 'chemical': 610, 'famous': 1275, 'chick': 615, 'peepees': 2584, 'prepare': 2722, 'women': 3891, 'constantly': 760, 'shack': 3132, 'mother': 2276, 'marry': 2136, 'express': 1243, 'validation': 3726, 'product': 2746, 'effort': 1118, 'gretta': 1527, 'brooker': 492, 'palmer': 2554, 'shroud': 3166, 'unpleasant': 3698, 'uncle': 3676, 'marijuana': 2132, 'teeth': 3480, 'hashtag': 1598, 'whateva': 3844, 'idc': 1726, 'boo': 440, 'las': 1955, 'vegas': 3732, 'alesso': 127, 'ingrosso': 1788, 'samuel': 3041, 'afford': 97, 'eps': 1191, 'return': 2944, 'raise': 2833, 'vibes': 3743, 'dangerous': 874, 'addict': 74, 'peaceful': 2579, 'wannadeal': 3785, 'puerto': 2785, 'rican': 2956, 'colorful': 699, 'legitimately': 1982, 'neurotic': 2360, 'motivation': 2278, 'eliminate': 1138, 'peeve': 2586, 'debilitate': 905, 'findrealhealth': 1328, 'whip': 3852, 'chimp': 623, 'paradox': 2560, 'train': 3603, 'mistake': 2237, 'grisk': 1535, 'growl': 1539, 'improve': 1758, 'react': 2856, 'goin': 1502, 'bein': 359, 'whyd': 3861, 'greenied': 1524, 'portlandia': 2694, 'nights': 2381, 'astral': 250, 'valley': 3727, 'longest': 2049, 'fan': 1276, 'nation': 2326, 'tougher': 3592, 'mystery': 2307, 'solve': 3258, 'wannadie': 3786, 'float': 1350, 'mania': 2119, 'hypomania': 1719, 'second': 3086, 'gm': 1493, 'fv': 1443, 'bdw': 339, 'utter': 3721, 'contentment': 768, 'russia': 3015, 'saudia': 3056, 'iran': 1828, 'battlefield': 328, 'happily': 1584, 'join': 1876, 'medical': 2166, 'doctor': 1032, 'assess': 241, 'patients': 2574, 'pharmacy': 2621, 'anti': 181, 'depressant': 944, 'tsunami': 3635, 'taehyung': 3450, 'lucky': 2074, 'fold': 1363, 'king': 1927, 'sheet': 3143, 'selfish': 3097, 'necessary': 2340, 'leavers': 1976, 'sale': 3034, 'wallet': 3775, 'af': 94, 'eighties': 1127, 'wot': 3912, 'hav': 1605, 'normally': 2409, 'challenge': 586, 'match': 2142, 'tennis': 3488, 'cheat': 604, 'colour': 700, 'wizard': 3886, 'oz': 2540, 'metaphor': 2199, 'monetary': 2257, 'yellow': 3942, 'brick': 475, 'ounce': 2522, 'etc': 1200, 'moto': 2279, 'software': 3253, 'security': 3089, '66mb': 32, 'facetime': 1257, 'chloe': 630, 'sum1': 3408, 'prison': 2739, 'fresh': 1403, 'disappoint': 1002, 'pendeja': 2587, 'significant': 3179, 'fully': 1431, 'comprehend': 736, 'affect': 95, 'tnf': 3565, 'nfl': 2366, 'network': 2358, 'package': 2543, 'freak': 1396, 'floor': 1352, 'poisonous': 2680, 'laborious': 1948, 'burden': 516, 'grudge': 1540, 'malala': 2107, 'wannacall': 3783, 'bout': 453, 'alergies': 126, 'mondays': 2256, 'shenanigans': 3144, 'greet': 1526, 'andy': 163, 'van': 3729, 'dyke': 1083, 'recent': 2875, 'oscar': 2514, 'wwe': 3924, 'superstars': 3418, 'carry': 562, 'worthlessness': 3910, 'drag': 1056, 'small': 3221, 'daily': 866, 'accomplish': 61, 'beers': 354, 'shift': 3145, 'tutorship': 3644, 'dear': 901, 'lbs': 1969, 'bellweather': 363, 'rif': 2963, 'empower': 1155, 'stranger': 3354, 's2': 3019, '25secs': 8, 'teaser': 3474, 'base': 318, 'definite': 923, 'jfc': 1864, 'fester': 1314, 'dm': 1028, 'snapcode': 3240, 'beware': 379, 'expense': 1237, 'leak': 1972, 'ship': 3149, 'benjamin': 368, 'franklin': 1395, 'lk': 2026, 'prdct': 2718, 'intimidate': 1819, 'lately': 1958, 'crime': 827, 'otherboth': 2517, 'destroy': 962, 'basic': 319, 'strip': 3368, 'bare': 312, 'visuals': 3758, 'count': 800, 'wallpaper': 3777, 'ty': 3655, 'round': 2998, 'suppress': 3423, 'anger': 164, 'sorrow': 3274, 'proverbs': 2770, 'ncause': 2331, 'nbecause': 2329, 'square': 3313, 'meals': 2158, '300x': 19, 'chaebol': 584, 'wang': 3781, 'stomach': 3344, 'rice': 2957, 'pudding': 2784, 'ensure': 1174, 'caller': 540, 'volume': 3765, 'worthless': 3909, 'thingsthat': 3521, 'remem': 2910, 'publication': 2782, 'riley': 2967, 'tease': 3473, 'harder': 1589, 'bffs': 383, 'impossible': 1755, 'promote': 2762, 'youtuber': 3953, '100k': 0, 'confident': 746, 'nalloutdenimfor': 2318, 'kissmarc': 1929, 'multiply': 2295, 'insight': 1796, 'clearer': 659, 'appeal': 204, 'wan': 3779, 'art': 229, 'lack': 1949, 'access': 58, 'rope': 2995, 'object': 2452, 'mayweather': 2153, 'trash': 3611, 'par': 2559, 'nate': 2325, 'diaz': 980, 'pack': 2542, 'drawer': 1060, 'elderly': 1132, 'relative': 2901, 'loom': 2052, 'camel': 543, 'hump': 1708, 'humphrey': 1709, 'painfully': 2548, 'rely': 2908, 'meaningless': 2161, 'meditation': 2170, 'sufian': 3400, 'frown': 1416, 'mont': 2261, 'blanc': 413, 'bang': 308, 'straightforward': 3352, 'jovial': 1885, 'repeat': 2918, 'breakthrough': 472, 'ketamine': 1916, 'similar': 3182, 'rajkumar': 2835, 'pharmacol': 2620, 'res': 2927, 'princess': 2737, 'commercials': 714, 'chair': 585, 'dean': 900, 'fujioka': 1426, 'history': 1649, 'spotify': 3307, 'agony': 108, 'host': 1684, 'oliver': 2480, 'urge': 3712, 'viewers': 3750, 'displeasure': 1018, 'fcc': 1298, 'policies': 2682, 'nature': 2328, 'aniversary': 169, 'blackmail': 409, 'cheap': 603, 'edge': 1105, 'fabulous': 1254, 'environment': 1184, 'street': 3359, 'nnow': 2395, 'wat': 3806, 'delete': 931, 'sleepless': 3213, 'hairy': 1567, 'bikers': 391, 'wee': 3829, 'dabbler': 862, 'bag': 297, 'sweets': 3434, 'convince': 779, 'huge': 1701, 'syfy': 3438, 'theme': 3511, 'cooldown': 784, 'csgo': 840, 'competitive': 726, 'afk': 99, 'olivia': 2482, 'prime': 2736, 'example': 1221, 'gorgeous': 1511, 'personality': 2611, 'stronger': 3372, 'chad': 583, 'sarah': 3049, 'reaally': 2854, 'joker': 1879, 'hatred': 1604, 'bui': 507, 'ah': 110, 'boi': 433, 'glue': 1492, 'screen': 3077, 'theres': 3516, 'disgust': 1013, 'lunchtime': 2076, 'peruse': 2613, 'lonelier': 2042, 'quality': 2803, 'perceive': 2593, 'lower': 2069, 'hewwo': 1636, 'artist': 231, 'attention': 257, 'besides': 371, 'request': 2925, 'satisfaction': 3051, 'distance': 1023, 'wth': 3922, 'chronic': 639, 'everyday': 1213, 'intense': 1809, 'intrusive': 1823, 'micro': 2205, 'dose': 1047, 'improvement': 1759, 'clockwork': 667, 'sunrise': 3414, 'sunset': 3415, 'david': 888, 'feifel': 1309, 'neend': 2344, 'suicides': 3405, 'unfortunately': 3682, 'otherwise': 2519, 'ultimate': 3665, 'decision': 912, 'liife': 2006, 'nicest': 2372, 'unappreciated': 3669, 'crappy': 813, 'brittany': 487, 'conclusion': 741, 'muscle': 2301, 'hottest': 1687, 'professor': 2752, 'compact': 722, 'metal': 2198, 'leaf': 1971, 'grinder': 1534, 'layer': 1967, 'conclude': 740, 'episode': 1189, 'anakin': 159, 'skywalker': 3208, 'overpower': 2535, 'daughter': 886, 'catch': 569, 'boatload': 431, 'red': 2882, 'snapper': 3241, 'mackerel': 2087, 'port': 2693, 'aransas': 217, 'feast': 1301, 'unasked': 3670, 'unanswered': 3668, 'gaze': 1455, 'wine': 3874, 'club': 676, 'shipment': 3150, 'crown': 834, 'kiddies': 1920, 'ruin': 3010, 'neighbor': 2349, 'sheeran': 3142, 'colleagues': 695, 'chill': 621, 'ramble': 2836, 'bat': 324, 'vegetable': 3733, 'guest': 1544, 'kenyan': 1912, 'optimistic': 2505, 'nole': 2400, 'sentiment': 3107, 'analysis': 160, 'algorithms': 130, 'democrats': 937, 'mrs': 2289, 'engineer': 1165, 'entirety': 1179, 'void': 3764, 'belong': 364, 'jr': 1889, 'aron': 225, 'darling': 881, 'beatrice': 344, 'cardiac': 557, 'cachexia': 535, 'basically': 320, 'quickly': 2813, 'consultant': 762, 'progression': 2758, 'xx': 3929, 'shut': 3169, 'image': 1747, 'status': 3328, 'quo': 2817, 'upload': 3707, 'slide': 3215, 'wordpress': 3898, 'block': 420, 'apartment': 198, 'thingy': 3522, 'brook': 491, 'comic': 709, 'doorbell': 1044, 'measure': 2162, 'usa': 3714, 'enter': 1175, 'barrack': 316, 'warm': 3800, 'palm': 2553, 'tree': 3616, 'negative': 2345, 'woohoo': 3896, 'ensnare': 1172, 'hrs': 1697, 'barely': 313, 'bastard': 323, 'bay': 329, 'quick': 2812, 'pup': 2791, 'receive': 2874, 'deep': 916, 'address': 78, 'indulge': 1774, 'robotic': 2984, 'industry': 1775, 'provide': 2771, 'robot': 2983, 'companion': 723, 'wannasee': 3793, 'explain': 1240, 'inexplicable': 1779, 'steinbeck': 3334, 'nicole': 2373, 'somewhere': 3265, 'tro': 3624, 'nnicole': 2393, 'oakland': 2449, 'nwhy': 2445, 'map': 2125, 'pine': 2642, 'apple': 208, 'pineapple': 2643, 'taeny': 3451, 'tiff': 3548, 'brighten': 480, 'pursuit': 2799, 'preoccupy': 2721, 'inappropriate': 1760, 'guilt': 1546, 'helplessness': 1630, 'jail': 1842, 'tonite': 3578, 'raj': 2834, 'tea': 3468, 'boston': 447, 'closer': 670, 'breakdowns': 470, 'sausage': 3057, 'dramas': 1058, 'writting': 3919, 'ps4': 2775, 'ps3': 2774, 'drama': 1057, 'olds': 2478, 'powerpoint': 2710, 'microsoft': 2207, 'behold': 357, '2kings': 14, '5a': 31, 'taffia': 3452, 'saturate': 3054, 'invalidate': 1825, 'misunderstand': 2238, 'speak': 3286, 'rehearsals': 2893, 'rsc': 3006, 'stag': 3317, 'macbeth': 2085, 'timeline': 3554, 'officer': 2466, 'hero': 1633, 'proper': 2764, 'reap': 2868, 'harvest': 1596, 'ngalatians': 2367, 'niv': 2388, 'noh': 2398, 'detector': 964, 'beep': 352, 'timid': 3557, 'fee': 1305, 'ets': 1202, '14th': 1, '15th': 2, 'beer': 353, 'fml': 1358, 'jb': 1851, 'bristol': 485, 'score': 3073, 'cider': 645, 'sometime': 3263, 'tenth': 3490, 'poison': 2679, 'resources': 2933, 'ic': 1722, 'ceasar': 575, 'imaginable': 1748, 'ceasars': 576, 'realms': 2867, 'idols': 1733, 'energy': 1163, 'jar': 1849, 'nutella': 2440, 'hour': 1691, 'explore': 1242, 'stalk': 3319, 'polish': 2684, 'harden': 1588, 'gummy': 1549, 'bottle': 449, 'pan': 2556, 'water': 3808, 'bug': 506, 'fucj': 1421, 'giants': 1474, 'playoff': 2663, 'fomo': 1369, 'complete': 729, 'individual': 1772, 'poor': 2688, 'freddie': 1397, 'unnerve': 3697, 'australia': 266, 'el': 1130, 'paso': 2569, 'copper': 787, 'pocket': 2674, 'pennies': 2590, 'expression': 1244, 'situation': 3198, 'regardless': 2888, 'odds': 2460, 'alote': 142, 'albert': 122, 'schweitzer': 3069, 'gamers': 1451, 'legit': 1981, 'differently': 989, 'usually': 3720, 'manifest': 2121, 'workaholism': 3900, 'addiction': 75, 'classic': 654, 'illnesses': 1743, 'flat': 1345, 'desire': 954, 'richest': 2959, 'wealth': 3820, 'weapon': 3821, 'tonic': 3576, 'expedition': 1236, 'hole': 1661, 'value': 3728, 'mozambique': 2288, 'ghost': 1472, 'entitle': 1180, 'forgiveness': 1379, 'pink': 2644, 'sec': 3085, 'vulnerable': 3769, 'risk': 2972, 'pull': 2786, 'author': 267, 'copy': 788, 'land': 1952, 'agent': 105, 'flick': 1347, 'smilling': 3232, 'infectious': 1782, 'nutritional': 2441, 'deficiencies': 922, 'neurological': 2359, 'physiological': 2633, 'excellent': 1223, 'jnr': 1868, 'info': 1785, 'baileyu12s': 299, 'audacity': 261, 'pecker': 2582, 'potty': 2703, 'appreciate': 210, 'sub': 3384, 'harmonics': 1593, 'shout': 3162, 'icy': 1725, 'rome': 2992, 'english': 1166, 'bully': 513, 'players': 2660, 'insightful': 1797, 'enlighten': 1169, 'nu': 2431, 'overprice': 2536, 'nreal': 2424, 'bayern': 330, 'threat': 3533, 'cave': 574, 'view': 3749, 'replace': 2919, 'nightmares': 2380, 'havent': 1606, 'populations': 2692, 'myriad': 2306, 'higher': 1642, 'healthcare': 1613, 'childcare': 618, 'intergenerational': 1814, 'beautifully': 346, 'efficient': 1117, 'chem': 609, 'ib': 1721, 'logrhythm': 2039, 'financial': 1326, 'unify': 3686, 'responses': 2938, 'case': 564, 'study': 3378, 'diet': 985, 'hahaa': 1562, 'fume': 1432, 'operation': 2500, 'cleveland': 662, 'airport': 118, 'transform': 3608, 'mcdonald': 2154, 'kara': 1899, 'cheryl': 612, 'inexplicably': 1780, 'lecture': 1977, 'impenetrable': 1752, 'consultu': 763, 'dollar': 1036, 'texted': 3500, 'list': 2018, 'yay': 3938, 'inbox': 1761, 'practise': 2713, 'basics': 321, 'ladder': 1950, 'net': 2356, 'mattresses': 2147, 'brigade': 478, 'amenities': 151, 'splurge': 3301, 'build': 508, 'statues': 3327, 'composer': 735, 'melancholy': 2177, 'youhavetostudyworkhardajajkskanakaoanakaa': 3949, 'aand': 37, 'boomshakalakaa': 443, 'sexuality': 3130, 'wildfire': 3868, 'dfdf': 975, 'nany': 2322, 'horny': 1678, 'swing': 3437, 'rd': 2853, 'appropriate': 214, 'dems': 940, 'kerry': 1915, 'speech': 3291, 'zayuum': 3961, 'bey': 380, 'tatas': 3466, 'meh': 2175, 'murder': 2299, 'plot': 2668, 'pure': 2794, 'beauty': 347, 'lauderdale': 1961, 'nur': 2438, 'aroma': 224, 'flare': 1344, 'almond': 136, 'gush': 1552, 'gleam': 1488, 'dads': 865, 'ride': 2962, 'amanda': 149, 'coker': 690, 'bicycle': 384, 'athlete': 251, 'clip': 665, 'thankxx': 3507, 'mids': 2211, 'llb': 2027, 'examss': 1222, 'ear': 1087, 'scioly': 3071, '2nd': 16, 'edition': 1108, 'underestimate': 3677, 'funerals': 1436, 'june': 1896, 'cruel': 835, 'propinquity': 2765, 'cease': 577, 'communicate': 718, 'germaine': 1466, 'greer': 1525, 'charger': 598, 'bruno': 496, 'mar': 2127, '24k': 7, 'nchasing': 2332, 'robberies': 2982, 'panic': 2558, 'nparty': 2421, 'hardy': 1591, 'titanic': 3561, 'mommies': 2252, 'zombie': 3965, 'acquaintance': 67, 'platforms': 2658, 'numbness': 2436, 'toxicity': 3600, 'plenty': 2666, 'chew': 614, 'gum': 1548, 'sabbs': 3021, 'liveswe': 2024, 'jolly': 1881, 'cheerful': 607, 'unique': 3690, 'otherworldly': 2520, '26th': 10, 'zero': 3962, 'inspire': 1799, 'venue': 3735, 'costa': 796, 'rica': 2955, 'bahria': 298, 'cupshup': 846, 'opinions': 2501, 'stories': 3348, 'accident': 59, 'madly': 2091, 'boxers': 456, 'pros': 2766, 'machaa': 2086, 'murah': 2298, 'rezeki': 2954, 'selalu': 3093, 'chilly': 622, 'cricket': 826, 'blindside': 419, 'heartache': 1618, 'fell': 1310, 'gateway': 1454, 'orlando': 2513, 'permission': 2604, 'fantasize': 1277, 'emoji': 1149, 'dismissal': 1014, 'ahh': 113, 'omfg': 2484, 'camera': 544, 'thames': 3503, 'revisit': 2950, 'freeze': 1401, 'xbox': 3926, 'bath': 325, 'critical': 831, 'discouragement': 1008, 'curse': 852, 'wpmebpavsn': 3916, 'eic': 1124, 'formidable': 1380, 'combination': 702, 'nelson': 2354, 'mandela': 2117, 'penguins': 2589, 'willy': 3870, 'scientist': 3070, 'original': 2512, 'cover': 807, 'coldplay': 693, 'stupid': 3382, 'dc': 892, 'noo': 2405, 'jim': 1865, 'keen': 1906, 'chin': 624, 'chest': 613, 'hype': 1717, 'n2': 2309, 'miracles': 2231, 'n3': 2310, 'makers': 2104, 'unattached': 3671, 'attach': 253, 'expand': 1233, 'issue': 1838, 'gachas': 1446, 'deresute': 950, 'enstars': 1173, 'addictive': 76, 'toxic': 3599, 'engage': 1164, 'connection': 753, 'underrate': 3678, 'wayy': 3815, 'poorly': 2689, 'sally': 3037, 'royal': 3004, 'continually': 769, 'circumstances': 647, 'thess': 3517, 'testimony': 3496, 'bs': 499, 'broadcast': 489, 'pig': 2638, 'college': 696, 'bull': 511, 'hella': 1626, 'noodles': 2406, 'nyummy': 2448, 'flu': 1355, 'useful': 3716, 'promila': 2760, 'aunty': 265, 'require': 2926, 'wannaget': 3788, 'sensitive': 3105, 'overwhelm': 2538, 'injustice': 1792, 'nap': 2323, 'nabsence': 2313, 'moms': 2254, 'bus': 523, 'embarrass': 1144, 'ksr': 1941, 'monty': 2264, 'waste': 3805, 'breath': 473, 'dunno': 1081, 'bestie': 374, 'thug': 3541, 'anons': 177, 'appreciation': 211, 'shippers': 3151, 'fort': 1382, 'ave': 272, 'location': 2036, 'chipotle': 627, 'slider': 3216, 'wallow': 3776, 'loathe': 2033, 'fart': 1282, 'hahahaha': 1564, 'yass': 3936, 'poetry': 2676, 'shy': 3170, 'oo': 2495, 'louder': 2062, 'brighter': 481, 'fredericton': 1398, 'brown': 494, 'children': 619, 'habit': 1559, 'outpouring': 2527, 'substance': 3388, 'disperse': 1017, 'particles': 2566, 'visit': 3756, 'gentleman': 1460, 'hosptal': 1683, 'visitors': 3757, 'reactions': 2857, 'downtown': 1054, 'schedule': 3066, 'foreign': 1374, 'overseas': 2537, 'omfgoodness': 2485, 'donkey': 1038, 'kong': 1940, 'jen': 1856, 'tide': 3546, 'elate': 1131, 'fest': 1313, 'collusion': 697, 'toxifying': 3601, 'rationally': 2848, 'hormone': 1677, 'cycle': 859, 'wks': 3887, 'endorphins': 1160, 'replenish': 2920, 'chant': 594, 'football': 1372, 'uae': 3659, 'usual': 3719, 'ahmed': 114, 'bakewell': 301, 'frangipani': 1394, 'almonds': 137, 'withdraw': 3882, 'camp': 545, 'oldest': 2477, 'cognitive': 686, 'onset': 2492, 'noticeable': 2415, 'slow': 3219, 'movements': 2285, 'jam': 1844, 'wiener': 3864, 'wannasleep': 3794, 'sneak': 3243, 'alcohol': 125, 'dorm': 1045, 'loud': 2061, 'tnite': 3566, 'available': 271, 'concern': 738, 'feature': 1302, 'grill': 1530, 'halibut': 1570, 'lime': 2011, 'basil': 322, 'crust': 838, 'tomato': 3572, 'lobster': 2034, 'coulis': 799, '30am': 20, 'peanut': 2581, 'butter': 528, 'famjam': 1274, 'celebrate': 578, 'mustache': 2304, 'joint': 1877, 'sadly': 3026, 'nominate': 2401, 'webster': 3826, 'introductory': 1821, 'appetite': 206, 'tolerate': 3570, 'irritation': 1832, 'guilty': 1547, 'sled': 3210, 'sadden': 3024, 'reynolds': 2953, 'cos': 794, 'wisdom': 3879, 'increaseth': 1768, 'knowledge': 1936, 'vlog': 3761, 'severely': 3126, 'workin': 3901, 'scheme': 3067, 'interstate': 1817, 'whoever': 3857, 'approve': 215, 'continuous': 771, 'remission': 2915, 'precede': 2719, 'toughest': 3593, 'episodes': 1190, 'slack': 3209, 'cnbc': 678, 'melissa': 2179, 'lee': 1979, 'joe': 1873, 'kernan': 1914, 'brace': 461, 'rule': 3011, 'profane': 2750, 'term': 3491, 'sue': 3395, 'remove': 2917, 'mommy': 2253, 'beautycon': 348, 'torture': 3586, 'blogger': 422, 'unexpectedly': 3681, 'lookout': 2051, 'dearest': 902, 'couldnt': 798, 'lifestyle': 1999, 'se4l': 3079, 'hii': 1645, 'logan': 2038, 'maverick': 2148, 'vlogs': 3762, 'congruent': 751, 'relax': 2902, 'federal': 1304, 'biofuels': 397, 'advocacy': 92, 'sugarcoat': 3401, 'farmers': 1281, 'plant': 2656, 'hobi': 1657, 'valid': 3725, 'oreo': 2509, 'whereabouts': 3848, 'danny': 876, 'calories': 542, 'maple': 2126, 'syrup': 3441, 'bizarre': 406, 'massive': 2140, 'frail': 1392, 'wicker': 3862, 'coracle': 789, 'bandicoot': 307, 'doubt': 1051, 'advise': 91, 'yep': 3944, 'microplush': 2206, 'cj': 649, 'spree': 3310, 'stock': 3343, 'range': 2840, 'promotions': 2763, 'families': 1271, 'abound': 44, 'coil': 688, 'bachelor': 289, 'storage': 3346, 'locker': 2037, 'corrupt': 792, 'girlie': 1482, 'howl': 1696, 'chase': 601, 'humility': 1707, 'sunshine': 3416, 'thrive': 3535, 'adverse': 89, 'nuclear': 2432, 'mornin': 2269, 'phantom': 2619, 'hottie': 1688, 'totally': 3589, 'xxoo': 3930, 'yas': 3935, 'tons': 3579, 'degree': 928, 'temperatures': 3484, 'entire': 1178, 'price': 2734, 'poster': 2700, 'sales': 3035, 'clerk': 661, 'mirror': 2232, 'gutting': 1555, 'snapchats': 3239, 'pint': 2645, 'steak': 3331, 'fourth': 1389, 'exorbitant': 1232, 'coupon': 803, 'administration': 82, 'comics': 710, 'russian': 3016, 'mafia': 2093, 'atty': 259, 'autism': 268, 'carnt': 560, 'mage': 2094, 'lvl': 2078, 'sake': 3032, 'lousy': 2064, 'perk': 2602, 'lend': 1987, 'dosorder': 1048, 'lesser': 1990, 'grade': 1516, 'bipolar': 398, 'spectrum': 3290, 'conversation': 776, 'rehearsal': 2892, 'packer': 2544, 'pity': 2651, 'shatter': 3138, 'devilish': 970, 'sin': 3186, 'scratch': 3075, 'inch': 1763, 'sledgingafter': 3211, 'shove': 3163, 'playground': 2661, 'asshole': 242, 'algorithm': 129, 'guide': 1545, 'management': 2115, 'patient': 2573, 'chief': 616, 'complaint': 728, 'either': 1129, 'noone': 2407, 'downer': 1052, 'neglect': 2347, 'disability': 1000, 'resilience': 2929, 'fearful': 1300, 'inevitable': 1777, 'quesarito': 2809, 'taco': 3448, 'office': 2465, 'insomnia': 1798, 'hath': 1603, 'jalape': 1843, 'regular': 2891, 'loove': 2054, 'skill': 3203, 'genuine': 1462, 'trauma': 3612, 'spin': 3296, 'coverage': 808, 'murmur': 2300, 'psyche': 2777, 'rare': 2844, 'uplift': 3706, 'fucc': 1420, 'sign': 3177, 'petition': 2617, 'barnes': 315, '9pm': 36, 'favorites': 1294, 'impress': 1757, 'karanka': 1901, 'middlesbrough': 2209, 'martinez': 2137, 'shiny': 3148, 'keeper': 1909, 'anv': 185, 'plus6yr': 2671, 'emphasize': 1154, 'pitiful': 2650, 'eagle': 1085, 'peddlers': 2583, 'professional': 2751, 'noise': 2399, 'salvation': 3040, 'mayflower': 2152, 'theatre': 3510, 'stitch': 3342, 'hoosiers': 1670, '2x': 18, 'hundreds': 1711, 'dollars': 1037, 'online': 2491, 'neighbuour': 2352, 'budster': 504, 'candidate': 549, 'atlantic': 252, 'lonelies': 2043, 'salesmen': 3036, 'qualm': 2805, 'sparrow': 3285, 'shouldnt': 3161, 'harry': 1594, 'santorini': 3048, 'upcoming': 3704, 'disturb': 1025, 'personal': 2610, 'sponsor': 3304, 'dreary': 1063, 'wifi': 3866, 'fashionable': 1285, 'insult': 1807, 'brandy': 464, 'hotel': 1686, 'solo': 3256, 'nthats': 2429, 'fok': 1362, 'nafternoon': 2315, 'smiley': 3231, 'yeon': 3943, 'kdrama': 1904, 'dara': 877, 'niall': 2370, 'handwrite': 1579, 'santa': 3047, 'fatass': 1288, 'fantasy': 1279, 'punish': 2790, 'sass': 3050, 'wit': 3881, 'reward': 2951, 'toenail': 3568, 'shave': 3139, 'duh': 1077, 'donuts': 1042, 'nneed': 2392, 'celebration': 579, 'persevere': 2607, 'mercury': 2193, 'award': 277, 'target': 3462, 'nthat': 2428, 'nif': 2375, 'tongue': 3575, 'photo': 2627, 'liar': 1994, 'develop': 967, 'direct': 996, 'nthey': 2430, 'yummy': 3958, 'nowhere': 2420, 'r200': 2819, 'arrange': 227, 'funeral': 1435, 'rate': 2846, 'rat': 2845, 'rank': 2841, 'stthomas': 3377, 'emit': 1147, 'psyops': 2779, 'da': 860, 'bcause': 334, '2me': 15, 'nd': 2333, 'wana': 3780, '2give': 13, 'options': 2507, 'bye': 532, 'emo': 1148, 'nane': 2321, 'nother': 2412, 'rollercoaster': 2990, 'immense': 1750, 'joke': 1878, 'artists': 232, 'convey': 778, 'horrors': 1680, 'bold': 437, 'scary': 3065, 'smaller': 3222, 'obstacles': 2455, 'quarter': 2806, 'rubles': 3008, 'market': 2135, 'european': 1203, 'gently': 1461, 'fame': 1270, 'cage': 536, 'chamber': 587, '40ft': 25, 'trailer': 3602, 'whitey': 3855, 'earpiece': 1091, 'gruelling': 1541, 'irate': 1829, 'editor': 1109, 'fuss': 1441, 'ignorant': 1735, 'stuiped': 3380, 'jamba': 1845, 'juice': 1891, 'mall': 2109, 'internet': 1816, 'channel': 592, 'dysthymia': 1084, 'severity': 3127, 'major': 2100, 'karaoke': 1902, 'britney': 486, 'shock': 3155, 'kokobop': 1939, 'nbut': 2330, 'virus': 3754, 'awareness': 278, 'current': 849, 'political': 2685, 'argument': 220, 'suddenly': 3394, 'tales': 3456, 'allround': 135, 'kenneth': 1911, 'copeland': 786, 'blind': 418, 'provocation': 2772, 'temptation': 3486, 'wilderness': 3867, 'identify': 1729, 'different': 988, 'desperately': 957, 'jesuschristheals': 1860, 'savesask': 3060, 'nmy': 2391, 'thumb': 3542, 'ngoing': 2368, 'melatonin': 2178, 'cortisol': 793, '4x': 28, 'likely': 2008, 'steam': 3333, 'snuggle': 3248, 'uigi': 3663, 'wall': 3774, 'collapse': 694, 'conflict': 747, 'yess': 3946, 'london': 2041, 'expensive': 1238, 'meetup': 2174, 'causal': 572, 'factor': 1260, 'tie': 3547, 'outta': 2532, 'hittas': 1651, 'finger': 1330, 'veronica': 3736, 'wasnt': 3804, 'lilly': 2010, 'duncan': 1080, 'wannakeep': 3791, 'veronice': 3737, 'rita': 2973, 'wannafinish': 3787, 'dexter': 973, 'relation': 2898, 'emerson': 1146, 'extent': 1246, 'jo': 1869, 'fantastic': 1278, 'peer': 2585, 'balcony': 303, 'refuge': 2886, 'unrealistic': 3700, 'attract': 258, 'tu': 3636, 'haces': 1560, 'reir': 2895, 'hetero': 1635, 'bestfriends': 373, 'deadly': 897, 'nurture': 2439, 'beighter': 358, 'rrm': 3005, 'kindness': 1926, 'degradation': 926, 'events': 1208, 'be': 340, 'paulo': 2576, 'coelho': 684, 'argue': 219, 'adulting': 87, 'depressive': 946, 'unexpected': 3680, 'instantly': 1803, 'froggy': 1414, 'nadd': 2314, 'rchar28': 2852, 'keithllbllm': 1910, 'peraon': 2592, 'vex': 3741, 'honesty': 1669, 'bravery': 466, 'traits': 3604, 'humans': 1705, 'triumph': 3623, 'vewy': 3740, 'esteem': 1198, 'wascalwy': 3802, 'depwession': 949, 'biggest': 388, 'pair': 2550, 'wilm': 3871, 'sunny': 3413, 'cloudy': 674, 'kurt': 1942, 'cobain': 682, 'youre': 3951, 'uglier': 3661, 'shin': 3146, '20pm': 5, 'tits': 3562, 'safety': 3030, 'routine': 3002, 'ahww': 115, 'karamadai': 1900, 'ranganatha': 2839, 'pallikondeeswarar': 2552, 'shiva': 3154, 'avl': 273, 'outrage': 2528, 'decadence': 908, 'task': 3464, 'shud': 3167, 'acceptable': 57, 'jordan': 1882, 'arya': 233, 'moth': 2275, 'imply': 1753, 'edward': 1112, 'abbey': 40, 'antidote': 184, 'period': 2600, 'anytime': 193, 'diff': 986, 'wd': 3817, 'ourself': 2523, 'demotivate': 939, 'fischer': 1334, 'leia': 1985, 'granny': 1519, 'smiths': 3233, 'flapjack': 1343, 'hammer': 1575, 'bengals': 367, 'forgive': 1378, 'stripper': 3369, 'tounges': 3594, 'vice': 3745, 'versa': 3738, 'devotionals': 972, '4th': 27, 'mamapink': 2111, 'interactions': 1812, 'gtg': 1542, 'cringe': 828, 'waz': 3816, 'astound': 249, 'dhoni': 976, 'jersey': 1858, 'clever': 663, 'areas': 218, 'hamlet': 1574, 'newcastle': 2363, 'mighty': 2213, 'spectacular': 3289, 'maximum': 2149, 'minimum': 2228, 'ooh': 2496, 'emerge': 1145, 'tardis': 3461, 'mi': 2202, 'spanish': 3284, '25yrs': 9, 'memba': 2183, 'dem': 936, 'groundbreaking': 1536, 'braid': 462, 'snatch': 3242, 'elections': 1133, 'blade': 410, 'wannaanything': 3782, 'useless': 3717, 'confidence': 745, 'mos': 2272, 'ho': 1654, 'mcintyre': 2156, 'official': 2467, 'pi': 2634, 'cyberbully': 858, 'lyrically': 2083, 'creepy': 824, 'bih': 389, 'necstasy': 2341, 'cousin': 806, 'babe': 287, 'resent': 2928, 'comfortable': 707, 'zindagi': 3963, 'goosebumps': 1510, 'weirdly': 3837, 'bleak': 415, 'melodies': 2180, 'mild': 2216, 'magic': 2095, 'novel': 2417, 'momentum': 2251, 'nnothing': 2394, 'ascents': 235, 'gifs': 1477, 'suit': 3406, 'swallow': 3430, 'podcast': 2675, 'sob': 3249, 'shape': 3135, 'lion': 2014, 'pnc': 2673, 'resolutions': 2931, 'prayer': 2717, 'command': 711, 'staff': 3316, 'estimate': 1199, 'nigga': 2376, 'catchin': 570, 'responsibility': 2939, 'hoard': 1655, 'removal': 2916, 'efficiency': 1116, 'dotmatrix': 1049, 'print': 2738, 'transcript': 3606, 'fullpost': 1430, 'twittr': 3653, 'nasal': 2324, 'spray': 3308, 'introduce': 1820, 'safer': 3029, 'however': 1695, 'pricey': 2735, 'iv': 1839, 'resistant': 2930, 'reply': 2921, 'ii': 1739, 'ry': 3018, 'soph': 3273, 'cutest': 856, 'agree': 109, 'buddy': 503, 'marathoning': 2128, 'chuck': 641, 'lifechanger': 1998, 'teen': 3476, 'bronz': 490, 'smm': 3234, 'uk': 3664, 'chart': 600, 'cometland': 705, 'albums': 124, 'carly': 559, 'theo': 3512, 'blair': 411, 'resort': 2932, 'julius': 1892, 'senators': 3101, 'mamon': 2112, 'companionship': 724, 'desert': 951, 'crack': 811, 'betray': 376, 'egoistical': 1121, 'scare': 3064, 'midnight': 2210, 'raven': 2849, 'texans': 3497, 'skint': 3206, 'thankfully': 3506, 'difficulties': 991, 'rouse': 3000, 'ellery': 1140, 'channing': 593, 'specially': 3288, 'geometric': 1465, '80w': 35, 'vape': 3730, 'april': 216, 'bertolacci': 370, 'genoa': 1459, 'loan': 2032, 'pratt': 2715, 'axell': 285, 'dissociation': 1022, 'serotonin': 3114, 'sulk': 3407, 'au': 260, 'contrair': 773, 'goodevening': 1507, 'curry': 851, 'warriors': 3801, 'assume': 247, 'bylsma': 533, 'lehner': 1984, 'disappear': 1001, 'angie': 165, 'assist': 245, 'burrito': 520}\n"
     ]
    }
   ],
   "source": [
    "print(Tfidf_vect.vocabulary_)"
   ]
  },
  {
   "cell_type": "code",
   "execution_count": 59,
   "metadata": {},
   "outputs": [],
   "source": [
    "Train_Y = Encoder.fit_transform(train['target'])\n",
    "Test_Y = Encoder.fit_transform(val['target'])"
   ]
  },
  {
   "cell_type": "code",
   "execution_count": 60,
   "metadata": {},
   "outputs": [],
   "source": [
    "Train_X_Tfidf = Tfidf_vect.transform(train['tweet'])\n",
    "Test_X_Tfidf = Tfidf_vect.transform(val['tweet'])"
   ]
  },
  {
   "cell_type": "code",
   "execution_count": 61,
   "metadata": {},
   "outputs": [
    {
     "name": "stdout",
     "output_type": "stream",
     "text": [
      "  (0, 3913)\t0.4720147376339591\n",
      "  (0, 3880)\t0.25147915953827904\n",
      "  (0, 3553)\t0.21271943154948933\n",
      "  (0, 3424)\t0.30593029390764775\n",
      "  (0, 2866)\t0.22778322813130666\n",
      "  (0, 2124)\t0.27365956997776786\n",
      "  (0, 1629)\t0.4101070626589089\n",
      "  (0, 1059)\t0.37426919214921633\n",
      "  (0, 421)\t0.37426919214921633\n",
      "  (1, 2729)\t0.33661480466416444\n",
      "  (1, 2591)\t0.21078530445943142\n",
      "  (1, 1713)\t0.27890300383321176\n",
      "  (1, 1640)\t0.34438361294834036\n",
      "  (1, 1578)\t0.3648180391496707\n",
      "  (1, 1327)\t0.2584685776318814\n",
      "  (1, 1095)\t0.34438361294834036\n",
      "  (1, 854)\t0.31863928057089186\n",
      "  (1, 558)\t0.28629145185087285\n",
      "  (1, 170)\t0.3793164952718026\n",
      "  (2, 3393)\t0.5907883948413533\n",
      "  (2, 1505)\t0.34815858594911986\n",
      "  (2, 1307)\t0.2716161547110807\n",
      "  (2, 1215)\t0.438045165102212\n",
      "  (2, 704)\t0.3583009952458822\n",
      "  (2, 290)\t0.3683967510538589\n",
      "  :\t:\n",
      "  (2044, 2058)\t0.4033670303180863\n",
      "  (2044, 1984)\t0.4419911428650134\n",
      "  (2044, 1450)\t0.3136846182552848\n",
      "  (2044, 533)\t0.4419911428650134\n",
      "  (2044, 247)\t0.4419911428650134\n",
      "  (2045, 3770)\t0.4090514613732597\n",
      "  (2045, 1467)\t0.25967289639167795\n",
      "  (2045, 1377)\t0.44246002914029425\n",
      "  (2045, 1001)\t0.5862923538524486\n",
      "  (2045, 552)\t0.47511818240863257\n",
      "  (2046, 3090)\t0.23301575851666634\n",
      "  (2046, 2664)\t0.30261583986483315\n",
      "  (2046, 2035)\t0.4045984880860949\n",
      "  (2046, 1637)\t0.3455408683997287\n",
      "  (2046, 1586)\t0.2090543619067369\n",
      "  (2046, 899)\t0.4045984880860949\n",
      "  (2046, 245)\t0.4263948983372252\n",
      "  (2046, 165)\t0.4263948983372252\n",
      "  (2047, 3611)\t0.41572775371765264\n",
      "  (2047, 3529)\t0.3746539073482615\n",
      "  (2047, 3193)\t0.3808972590560956\n",
      "  (2047, 2397)\t0.3468028860902646\n",
      "  (2047, 1975)\t0.2987495663173133\n",
      "  (2047, 520)\t0.47002442519843807\n",
      "  (2047, 361)\t0.3335800609788703\n"
     ]
    }
   ],
   "source": [
    "print(Train_X_Tfidf)"
   ]
  },
  {
   "cell_type": "code",
   "execution_count": 62,
   "metadata": {},
   "outputs": [
    {
     "name": "stdout",
     "output_type": "stream",
     "text": [
      "Naive Bayes Accuracy Score ->  75.5859375\n",
      "Naive Bayes f1 measure Score ->  10.071942446043165\n",
      "Naive Bayes precision Score ->  5.384615384615385\n",
      "Naive Bayes recall Score ->  77.77777777777779\n"
     ]
    }
   ],
   "source": [
    "# fit the training dataset on the NB classifier\n",
    "Naive = naive_bayes.MultinomialNB()\n",
    "Naive.fit(Train_X_Tfidf,Train_Y)\n",
    "# predict the labels on validation dataset\n",
    "predictions_NB = Naive.predict(Test_X_Tfidf)\n",
    "# Use accuracy_score function to get the accuracy\n",
    "print(\"Naive Bayes Accuracy Score -> \",accuracy_score(predictions_NB, Test_Y)*100)\n",
    "print(\"Naive Bayes f1 measure Score -> \",f1_score(predictions_NB, Test_Y)*100)\n",
    "print(\"Naive Bayes precision Score -> \",precision_score(predictions_NB, Test_Y)*100)\n",
    "print(\"Naive Bayes recall Score -> \",recall_score(predictions_NB, Test_Y)*100)"
   ]
  },
  {
   "cell_type": "code",
   "execution_count": 63,
   "metadata": {},
   "outputs": [
    {
     "name": "stdout",
     "output_type": "stream",
     "text": [
      "SVM Accuracy Score ->  78.125\n",
      "SVM f1 measure Score ->  47.16981132075472\n",
      "SVM precision Score ->  38.46153846153847\n",
      "SVM recall Score ->  60.97560975609756\n"
     ]
    }
   ],
   "source": [
    "# Classifier - Algorithm - SVM\n",
    "# fit the training dataset on the classifier\n",
    "SVM = svm.SVC(C=1.0, kernel='linear', degree=3, gamma='auto')\n",
    "SVM.fit(Train_X_Tfidf,Train_Y)\n",
    "# predict the labels on validation dataset\n",
    "predictions_SVM = SVM.predict(Test_X_Tfidf)\n",
    "# Use accuracy_score function to get the accuracy\n",
    "print(\"SVM Accuracy Score -> \",accuracy_score(predictions_SVM, Test_Y)*100)\n",
    "print(\"SVM f1 measure Score -> \",f1_score(predictions_SVM, Test_Y)*100)\n",
    "print(\"SVM precision Score -> \",precision_score(predictions_SVM, Test_Y)*100)\n",
    "print(\"SVM recall Score -> \",recall_score(predictions_SVM, Test_Y)*100)"
   ]
  },
  {
   "cell_type": "code",
   "execution_count": 71,
   "metadata": {},
   "outputs": [
    {
     "ename": "ValueError",
     "evalue": "Found input variables with inconsistent numbers of samples: [640, 512]",
     "output_type": "error",
     "traceback": [
      "\u001b[1;31m---------------------------------------------------------------------------\u001b[0m",
      "\u001b[1;31mValueError\u001b[0m                                Traceback (most recent call last)",
      "\u001b[1;32m<ipython-input-71-7a48dd5776a6>\u001b[0m in \u001b[0;36m<module>\u001b[1;34m\u001b[0m\n\u001b[0;32m      6\u001b[0m \u001b[0mplt\u001b[0m\u001b[1;33m.\u001b[0m\u001b[0msuptitle\u001b[0m\u001b[1;33m(\u001b[0m\u001b[1;34m'Categorical Comparison Plot'\u001b[0m\u001b[1;33m)\u001b[0m\u001b[1;33m\u001b[0m\u001b[1;33m\u001b[0m\u001b[0m\n\u001b[0;32m      7\u001b[0m \u001b[0max\u001b[0m \u001b[1;33m=\u001b[0m \u001b[0mfig\u001b[0m\u001b[1;33m.\u001b[0m\u001b[0madd_subplot\u001b[0m\u001b[1;33m(\u001b[0m\u001b[1;36m1\u001b[0m\u001b[1;33m,\u001b[0m\u001b[1;36m4\u001b[0m\u001b[1;33m,\u001b[0m\u001b[1;36m1\u001b[0m\u001b[1;33m)\u001b[0m\u001b[1;33m\u001b[0m\u001b[1;33m\u001b[0m\u001b[0m\n\u001b[1;32m----> 8\u001b[1;33m \u001b[0mplt\u001b[0m\u001b[1;33m.\u001b[0m\u001b[0mbar\u001b[0m\u001b[1;33m(\u001b[0m\u001b[0mclass_label\u001b[0m\u001b[1;33m,\u001b[0m \u001b[1;33m[\u001b[0m\u001b[0maccuracy_score\u001b[0m\u001b[1;33m(\u001b[0m\u001b[0mpredictions_NB\u001b[0m\u001b[1;33m,\u001b[0m \u001b[0mTest_Y\u001b[0m\u001b[1;33m)\u001b[0m\u001b[1;33m*\u001b[0m\u001b[1;36m100\u001b[0m\u001b[1;33m,\u001b[0m\u001b[0maccuracy_score\u001b[0m\u001b[1;33m(\u001b[0m\u001b[0mpredictions_SVM\u001b[0m\u001b[1;33m,\u001b[0m \u001b[0mTest_Y\u001b[0m\u001b[1;33m)\u001b[0m\u001b[1;33m*\u001b[0m\u001b[1;36m100\u001b[0m\u001b[1;33m]\u001b[0m\u001b[1;33m,\u001b[0m \u001b[0mcolor\u001b[0m\u001b[1;33m=\u001b[0m\u001b[1;33m[\u001b[0m\u001b[1;34m'blue'\u001b[0m\u001b[1;33m,\u001b[0m\u001b[1;34m'orange'\u001b[0m\u001b[1;33m]\u001b[0m\u001b[1;33m)\u001b[0m\u001b[1;33m\u001b[0m\u001b[1;33m\u001b[0m\u001b[0m\n\u001b[0m\u001b[0;32m      9\u001b[0m \u001b[0max\u001b[0m\u001b[1;33m.\u001b[0m\u001b[0mset_ylim\u001b[0m\u001b[1;33m(\u001b[0m\u001b[1;33m[\u001b[0m\u001b[1;36m0\u001b[0m\u001b[1;33m,\u001b[0m\u001b[1;36m100\u001b[0m\u001b[1;33m]\u001b[0m\u001b[1;33m)\u001b[0m\u001b[1;33m\u001b[0m\u001b[1;33m\u001b[0m\u001b[0m\n\u001b[0;32m     10\u001b[0m \u001b[0max\u001b[0m\u001b[1;33m.\u001b[0m\u001b[0mset\u001b[0m\u001b[1;33m(\u001b[0m\u001b[0mxlabel\u001b[0m\u001b[1;33m=\u001b[0m\u001b[1;34m'Models'\u001b[0m\u001b[1;33m,\u001b[0m \u001b[0mylabel\u001b[0m\u001b[1;33m=\u001b[0m\u001b[1;34m\"scores\"\u001b[0m\u001b[1;33m,\u001b[0m \u001b[0mtitle\u001b[0m\u001b[1;33m=\u001b[0m\u001b[1;34m\"accuracy\"\u001b[0m\u001b[1;33m)\u001b[0m\u001b[1;33m\u001b[0m\u001b[1;33m\u001b[0m\u001b[0m\n",
      "\u001b[1;32m~\\AppData\\Local\\Programs\\Python\\Python37\\lib\\site-packages\\sklearn\\utils\\validation.py\u001b[0m in \u001b[0;36minner_f\u001b[1;34m(*args, **kwargs)\u001b[0m\n\u001b[0;32m     61\u001b[0m             \u001b[0mextra_args\u001b[0m \u001b[1;33m=\u001b[0m \u001b[0mlen\u001b[0m\u001b[1;33m(\u001b[0m\u001b[0margs\u001b[0m\u001b[1;33m)\u001b[0m \u001b[1;33m-\u001b[0m \u001b[0mlen\u001b[0m\u001b[1;33m(\u001b[0m\u001b[0mall_args\u001b[0m\u001b[1;33m)\u001b[0m\u001b[1;33m\u001b[0m\u001b[1;33m\u001b[0m\u001b[0m\n\u001b[0;32m     62\u001b[0m             \u001b[1;32mif\u001b[0m \u001b[0mextra_args\u001b[0m \u001b[1;33m<=\u001b[0m \u001b[1;36m0\u001b[0m\u001b[1;33m:\u001b[0m\u001b[1;33m\u001b[0m\u001b[1;33m\u001b[0m\u001b[0m\n\u001b[1;32m---> 63\u001b[1;33m                 \u001b[1;32mreturn\u001b[0m \u001b[0mf\u001b[0m\u001b[1;33m(\u001b[0m\u001b[1;33m*\u001b[0m\u001b[0margs\u001b[0m\u001b[1;33m,\u001b[0m \u001b[1;33m**\u001b[0m\u001b[0mkwargs\u001b[0m\u001b[1;33m)\u001b[0m\u001b[1;33m\u001b[0m\u001b[1;33m\u001b[0m\u001b[0m\n\u001b[0m\u001b[0;32m     64\u001b[0m \u001b[1;33m\u001b[0m\u001b[0m\n\u001b[0;32m     65\u001b[0m             \u001b[1;31m# extra_args > 0\u001b[0m\u001b[1;33m\u001b[0m\u001b[1;33m\u001b[0m\u001b[1;33m\u001b[0m\u001b[0m\n",
      "\u001b[1;32m~\\AppData\\Local\\Programs\\Python\\Python37\\lib\\site-packages\\sklearn\\metrics\\_classification.py\u001b[0m in \u001b[0;36maccuracy_score\u001b[1;34m(y_true, y_pred, normalize, sample_weight)\u001b[0m\n\u001b[0;32m    200\u001b[0m \u001b[1;33m\u001b[0m\u001b[0m\n\u001b[0;32m    201\u001b[0m     \u001b[1;31m# Compute accuracy for each possible representation\u001b[0m\u001b[1;33m\u001b[0m\u001b[1;33m\u001b[0m\u001b[1;33m\u001b[0m\u001b[0m\n\u001b[1;32m--> 202\u001b[1;33m     \u001b[0my_type\u001b[0m\u001b[1;33m,\u001b[0m \u001b[0my_true\u001b[0m\u001b[1;33m,\u001b[0m \u001b[0my_pred\u001b[0m \u001b[1;33m=\u001b[0m \u001b[0m_check_targets\u001b[0m\u001b[1;33m(\u001b[0m\u001b[0my_true\u001b[0m\u001b[1;33m,\u001b[0m \u001b[0my_pred\u001b[0m\u001b[1;33m)\u001b[0m\u001b[1;33m\u001b[0m\u001b[1;33m\u001b[0m\u001b[0m\n\u001b[0m\u001b[0;32m    203\u001b[0m     \u001b[0mcheck_consistent_length\u001b[0m\u001b[1;33m(\u001b[0m\u001b[0my_true\u001b[0m\u001b[1;33m,\u001b[0m \u001b[0my_pred\u001b[0m\u001b[1;33m,\u001b[0m \u001b[0msample_weight\u001b[0m\u001b[1;33m)\u001b[0m\u001b[1;33m\u001b[0m\u001b[1;33m\u001b[0m\u001b[0m\n\u001b[0;32m    204\u001b[0m     \u001b[1;32mif\u001b[0m \u001b[0my_type\u001b[0m\u001b[1;33m.\u001b[0m\u001b[0mstartswith\u001b[0m\u001b[1;33m(\u001b[0m\u001b[1;34m'multilabel'\u001b[0m\u001b[1;33m)\u001b[0m\u001b[1;33m:\u001b[0m\u001b[1;33m\u001b[0m\u001b[1;33m\u001b[0m\u001b[0m\n",
      "\u001b[1;32m~\\AppData\\Local\\Programs\\Python\\Python37\\lib\\site-packages\\sklearn\\metrics\\_classification.py\u001b[0m in \u001b[0;36m_check_targets\u001b[1;34m(y_true, y_pred)\u001b[0m\n\u001b[0;32m     81\u001b[0m     \u001b[0my_pred\u001b[0m \u001b[1;33m:\u001b[0m \u001b[0marray\u001b[0m \u001b[1;32mor\u001b[0m \u001b[0mindicator\u001b[0m \u001b[0mmatrix\u001b[0m\u001b[1;33m\u001b[0m\u001b[1;33m\u001b[0m\u001b[0m\n\u001b[0;32m     82\u001b[0m     \"\"\"\n\u001b[1;32m---> 83\u001b[1;33m     \u001b[0mcheck_consistent_length\u001b[0m\u001b[1;33m(\u001b[0m\u001b[0my_true\u001b[0m\u001b[1;33m,\u001b[0m \u001b[0my_pred\u001b[0m\u001b[1;33m)\u001b[0m\u001b[1;33m\u001b[0m\u001b[1;33m\u001b[0m\u001b[0m\n\u001b[0m\u001b[0;32m     84\u001b[0m     \u001b[0mtype_true\u001b[0m \u001b[1;33m=\u001b[0m \u001b[0mtype_of_target\u001b[0m\u001b[1;33m(\u001b[0m\u001b[0my_true\u001b[0m\u001b[1;33m)\u001b[0m\u001b[1;33m\u001b[0m\u001b[1;33m\u001b[0m\u001b[0m\n\u001b[0;32m     85\u001b[0m     \u001b[0mtype_pred\u001b[0m \u001b[1;33m=\u001b[0m \u001b[0mtype_of_target\u001b[0m\u001b[1;33m(\u001b[0m\u001b[0my_pred\u001b[0m\u001b[1;33m)\u001b[0m\u001b[1;33m\u001b[0m\u001b[1;33m\u001b[0m\u001b[0m\n",
      "\u001b[1;32m~\\AppData\\Local\\Programs\\Python\\Python37\\lib\\site-packages\\sklearn\\utils\\validation.py\u001b[0m in \u001b[0;36mcheck_consistent_length\u001b[1;34m(*arrays)\u001b[0m\n\u001b[0;32m    318\u001b[0m     \u001b[1;32mif\u001b[0m \u001b[0mlen\u001b[0m\u001b[1;33m(\u001b[0m\u001b[0muniques\u001b[0m\u001b[1;33m)\u001b[0m \u001b[1;33m>\u001b[0m \u001b[1;36m1\u001b[0m\u001b[1;33m:\u001b[0m\u001b[1;33m\u001b[0m\u001b[1;33m\u001b[0m\u001b[0m\n\u001b[0;32m    319\u001b[0m         raise ValueError(\"Found input variables with inconsistent numbers of\"\n\u001b[1;32m--> 320\u001b[1;33m                          \" samples: %r\" % [int(l) for l in lengths])\n\u001b[0m\u001b[0;32m    321\u001b[0m \u001b[1;33m\u001b[0m\u001b[0m\n\u001b[0;32m    322\u001b[0m \u001b[1;33m\u001b[0m\u001b[0m\n",
      "\u001b[1;31mValueError\u001b[0m: Found input variables with inconsistent numbers of samples: [640, 512]"
     ]
    },
    {
     "data": {
      "image/png": "[encoded data removed]",
      "text/plain": [
       "<Figure size 720x360 with 1 Axes>"
      ]
     },
     "metadata": {
      "needs_background": "light"
     },
     "output_type": "display_data"
    }
   ],
   "source": [
    "fig = plt.figure(figsize=(10,5))\n",
    "fig.subplots_adjust(hspace=0.4, wspace=0.4)\n",
    "\n",
    "class_label = ['Naive Bayes', 'SVM']\n",
    "\n",
    "plt.suptitle('Categorical Comparison Plot')\n",
    "ax = fig.add_subplot(1,4,1)\n",
    "plt.bar(class_label, [accuracy_score(predictions_NB, Test_Y)*100,accuracy_score(predictions_SVM, Test_Y)*100])\n",
    "ax.set_ylim([0,100])\n",
    "ax.set(xlabel='Models', ylabel=\"scores\", title=\"accuracy\")\n",
    "\n",
    "ay = fig.add_subplot(1,4,2)\n",
    "plt.bar(class_label, [precision_score(predictions_NB, Test_Y)*100,precision_score(predictions_SVM, Test_Y)*100])\n",
    "ay.set_ylim([0,100])\n",
    "ay.set(xlabel='Models', ylabel=\"scores\", title=\"precision\")\n",
    "\n",
    "az = fig.add_subplot(1,4,3)\n",
    "plt.bar(class_label, [recall_score(predictions_NB, Test_Y)*100,recall_score(predictions_SVM, Test_Y)*100])\n",
    "az.set_ylim([0,100])\n",
    "az.set(xlabel='Models', ylabel=\"scores\", title=\"recall\")\n",
    "\n",
    "bx = fig.add_subplot(1,4,4)\n",
    "plt.bar(class_label, [f1_score(predictions_NB, Test_Y)*100,f1_score(predictions_SVM, Test_Y)*100])\n",
    "bx.set_ylim([0,100])\n",
    "bx.set(xlabel='Models', ylabel=\"scores\", title=\"F measures\")"
   ]
  },
  {
   "cell_type": "code",
   "execution_count": 65,
   "metadata": {},
   "outputs": [],
   "source": [
    "Test_X_Tfidf_f = Tfidf_vect.transform(test['tweet'])\n",
    "Test_Y_f = Encoder.fit_transform(test['target'])"
   ]
  },
  {
   "cell_type": "code",
   "execution_count": 66,
   "metadata": {},
   "outputs": [],
   "source": [
    "Naive.fit(Train_X_Tfidf,Train_Y)\n",
    "# predict the labels on validation dataset\n",
    "predictions_NB = Naive.predict(Test_X_Tfidf_f)\n",
    "\n",
    "SVM.fit(Train_X_Tfidf,Train_Y)\n",
    "# predict the labels on validation dataset\n",
    "predictions_SVM = SVM.predict(Test_X_Tfidf_f)"
   ]
  },
  {
   "cell_type": "code",
   "execution_count": 67,
   "metadata": {},
   "outputs": [
    {
     "data": {
      "text/plain": [
       "[Text(0, 0.5, 'scores'), Text(0.5, 0, 'Models'), Text(0.5, 1.0, 'F measures')]"
      ]
     },
     "execution_count": 67,
     "metadata": {},
     "output_type": "execute_result"
    },
    {
     "data": {
      "image/png": "[encoded data removed]",
      "text/plain": [
       "<Figure size 720x360 with 4 Axes>"
      ]
     },
     "metadata": {
      "needs_background": "light"
     },
     "output_type": "display_data"
    }
   ],
   "source": [
    "fig = plt.figure(figsize=(10,5))\n",
    "fig.subplots_adjust(hspace=0.4, wspace=0.4)\n",
    "\n",
    "class_label = ['Naive Bayes', 'SVM']\n",
    "\n",
    "plt.suptitle('Categorical Comparison Plot')\n",
    "ax = fig.add_subplot(1,4,1)\n",
    "plt.bar(class_label, [accuracy_score(predictions_NB, Test_Y_f)*100,accuracy_score(predictions_SVM, Test_Y_f)*100])\n",
    "ax.set_ylim([0,100])\n",
    "ax.set(xlabel='Models', ylabel=\"scores\", title=\"accuracy\")\n",
    "\n",
    "ay = fig.add_subplot(1,4,2)\n",
    "plt.bar(class_label, [precision_score(predictions_NB, Test_Y_f)*100,precision_score(predictions_SVM, Test_Y_f)*100])\n",
    "ay.set_ylim([0,100])\n",
    "ay.set(xlabel='Models', ylabel=\"scores\", title=\"precision\")\n",
    "\n",
    "az = fig.add_subplot(1,4,3)\n",
    "plt.bar(class_label, [recall_score(predictions_NB, Test_Y_f)*100,recall_score(predictions_SVM, Test_Y_f)*100])\n",
    "az.set_ylim([0,100])\n",
    "az.set(xlabel='Models', ylabel=\"scores\", title=\"recall\")\n",
    "\n",
    "bx = fig.add_subplot(1,4,4)\n",
    "plt.bar(class_label, [f1_score(predictions_NB, Test_Y_f)*100,f1_score(predictions_SVM, Test_Y_f)*100])\n",
    "bx.set_ylim([0,100])\n",
    "bx.set(xlabel='Models', ylabel=\"scores\", title=\"F measures\")"
   ]
  },
  {
   "cell_type": "code",
   "execution_count": 68,
   "metadata": {},
   "outputs": [
    {
     "name": "stdout",
     "output_type": "stream",
     "text": [
      "Naive Bayes Accuracy Score ->  76.09375\n",
      "Naive Bayes f1 measure Score ->  7.272727272727273\n",
      "Naive Bayes precision Score ->  3.8461538461538463\n",
      "Naive Bayes recall Score ->  66.66666666666666\n"
     ]
    }
   ],
   "source": [
    "print(\"Naive Bayes Accuracy Score -> \",accuracy_score(predictions_NB, Test_Y_f)*100)\n",
    "print(\"Naive Bayes f1 measure Score -> \",f1_score(predictions_NB, Test_Y_f)*100)\n",
    "print(\"Naive Bayes precision Score -> \",precision_score(predictions_NB, Test_Y_f)*100)\n",
    "print(\"Naive Bayes recall Score -> \",recall_score(predictions_NB, Test_Y_f)*100)"
   ]
  },
  {
   "cell_type": "code",
   "execution_count": 69,
   "metadata": {},
   "outputs": [
    {
     "name": "stdout",
     "output_type": "stream",
     "text": [
      "SVM Accuracy Score ->  77.8125\n",
      "SVM f1 measure Score ->  48.17518248175182\n",
      "SVM precision Score ->  42.30769230769231\n",
      "SVM recall Score ->  55.932203389830505\n"
     ]
    }
   ],
   "source": [
    "print(\"SVM Accuracy Score -> \",accuracy_score(predictions_SVM, Test_Y_f)*100)\n",
    "print(\"SVM f1 measure Score -> \",f1_score(predictions_SVM, Test_Y_f)*100)\n",
    "print(\"SVM precision Score -> \",precision_score(predictions_SVM, Test_Y_f)*100)\n",
    "print(\"SVM recall Score -> \",recall_score(predictions_SVM, Test_Y_f)*100)"
   ]
  },
  {
   "cell_type": "code",
   "execution_count": null,
   "metadata": {},
   "outputs": [],
   "source": []
  }
 ],
 "metadata": {
  "kernelspec": {
   "display_name": "Python 3",
   "language": "python",
   "name": "python3"
  },
  "language_info": {
   "codemirror_mode": {
    "name": "ipython",
    "version": 3
   },
   "file_extension": ".py",
   "mimetype": "text/x-python",
   "name": "python",
   "nbconvert_exporter": "python",
   "pygments_lexer": "ipython3",
   "version": "3.7.4"
  }
 },
 "nbformat": 4,
 "nbformat_minor": 4
}
